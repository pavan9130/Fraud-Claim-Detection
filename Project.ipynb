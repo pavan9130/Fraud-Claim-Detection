{
 "cells": [
  {
   "cell_type": "code",
   "execution_count": 1,
   "metadata": {
    "ExecuteTime": {
     "end_time": "2021-02-01T12:25:21.272484Z",
     "start_time": "2021-02-01T12:24:37.471568Z"
    }
   },
   "outputs": [],
   "source": [
    "import pandas as pd\n",
    "import numpy as np\n",
    "import matplotlib.pyplot as plt"
   ]
  },
  {
   "cell_type": "code",
   "execution_count": 2,
   "metadata": {
    "ExecuteTime": {
     "end_time": "2021-02-01T12:25:31.246291Z",
     "start_time": "2021-02-01T12:25:22.310472Z"
    }
   },
   "outputs": [],
   "source": [
    "import seaborn as sns"
   ]
  },
  {
   "cell_type": "code",
   "execution_count": 3,
   "metadata": {
    "ExecuteTime": {
     "end_time": "2021-02-01T12:25:40.416890Z",
     "start_time": "2021-02-01T12:25:35.804130Z"
    }
   },
   "outputs": [],
   "source": [
    "#importing data \n",
    "data=pd.read_csv('C:/Users/Pavan786/Downloads/InsuranceDataset.csv')"
   ]
  },
  {
   "cell_type": "code",
   "execution_count": 4,
   "metadata": {
    "ExecuteTime": {
     "end_time": "2021-02-01T12:25:44.351528Z",
     "start_time": "2021-02-01T12:25:43.586983Z"
    }
   },
   "outputs": [
    {
     "name": "stdout",
     "output_type": "stream",
     "text": [
      "<class 'pandas.core.frame.DataFrame'>\n",
      "RangeIndex: 1048575 entries, 0 to 1048574\n",
      "Data columns (total 24 columns):\n",
      " #   Column                                 Non-Null Count    Dtype  \n",
      "---  ------                                 --------------    -----  \n",
      " 0   Area_Service                           1046119 non-null  object \n",
      " 1   Hospital County                        1046119 non-null  object \n",
      " 2   Hospital Id                            1046119 non-null  float64\n",
      " 3   Age                                    1048575 non-null  object \n",
      " 4   Gender                                 1048575 non-null  object \n",
      " 5   Cultural_group                         1048575 non-null  object \n",
      " 6   ethnicity                              1048575 non-null  object \n",
      " 7   Days_spend_hsptl                       1048575 non-null  object \n",
      " 8   Admission_type                         1048575 non-null  object \n",
      " 9   Home or self care,                     1048575 non-null  object \n",
      " 10  ccs_diagnosis_code                     1048575 non-null  int64  \n",
      " 11  ccs_procedure_code                     1048575 non-null  int64  \n",
      " 12  apr_drg_description                    1048575 non-null  object \n",
      " 13  Code_illness                           1048575 non-null  int64  \n",
      " 14  Mortality risk                         1048533 non-null  float64\n",
      " 15  Surg_Description                       1048575 non-null  object \n",
      " 16  Weight_baby                            1048575 non-null  int64  \n",
      " 17  Abortion                               1048575 non-null  object \n",
      " 18  Emergency dept_yes/No                  1048575 non-null  object \n",
      " 19  Tot_charg                              1048575 non-null  float64\n",
      " 20  Tot_cost                               1048575 non-null  float64\n",
      " 21  ratio_of_total_costs_to_total_charges  1048575 non-null  float64\n",
      " 22  Result                                 1048575 non-null  int64  \n",
      " 23  Payment_Typology                       1048575 non-null  int64  \n",
      "dtypes: float64(5), int64(6), object(13)\n",
      "memory usage: 192.0+ MB\n"
     ]
    }
   ],
   "source": [
    "data.info() #24 columns "
   ]
  },
  {
   "cell_type": "code",
   "execution_count": 5,
   "metadata": {
    "ExecuteTime": {
     "end_time": "2021-02-01T12:26:04.147821Z",
     "start_time": "2021-02-01T12:26:03.882740Z"
    }
   },
   "outputs": [],
   "source": [
    "#dropping Hospital Id \n",
    "data=data.drop(['Hospital Id'],axis=1)"
   ]
  },
  {
   "cell_type": "code",
   "execution_count": 6,
   "metadata": {
    "ExecuteTime": {
     "end_time": "2021-02-01T12:26:08.581193Z",
     "start_time": "2021-02-01T12:26:07.068340Z"
    }
   },
   "outputs": [
    {
     "name": "stdout",
     "output_type": "stream",
     "text": [
      "******* Area_Service *******\n",
      "['Western NY' nan 'Finger Lakes' 'Central NY' 'Southern Tier'\n",
      " 'Capital/Adirond' 'Hudson Valley' 'New York City']\n",
      "******* Hospital County *******\n",
      "['Allegany' nan 'Cattaraugus' 'Chautauqua' 'Erie' 'Genesee' 'Niagara'\n",
      " 'Orleans' 'Wyoming' 'Chemung' 'Livingston' 'Monroe' 'Ontario' 'Schuyler'\n",
      " 'Steuben' 'Wayne' 'Yates' 'Oswego' 'Broome' 'Cayuga' 'Chenango'\n",
      " 'Cortland' 'Herkimer' 'Jefferson' 'Lewis' 'Madison' 'Oneida' 'Onondaga'\n",
      " 'St Lawrence' 'Tompkins' 'Albany' 'Clinton' 'Columbia' 'Delaware' 'Essex'\n",
      " 'Franklin' 'Fulton' 'Montgomery' 'Otsego' 'Rensselaer' 'Saratoga'\n",
      " 'Schenectady' 'Schoharie' 'Warren' 'Dutchess' 'Orange' 'Putnam'\n",
      " 'Rockland' 'Sullivan' 'Ulster' 'Westchester' 'Bronx']\n",
      "******* Age *******\n",
      "['30 to 49' '70 or Older' '0 to 17' '18 to 29' '50 to 69']\n",
      "******* Gender *******\n",
      "['F' 'M' 'U']\n",
      "******* Cultural_group *******\n",
      "['White' 'Other Race' 'Black/African American' 'Unknown']\n",
      "******* ethnicity *******\n",
      "['Not Span/Hispanic' 'Spanish/Hispanic' 'Unknown']\n",
      "******* Days_spend_hsptl *******\n",
      "['4' '3' '1' '2' '5' '6' '14' '12' '9' '8' '10' '7' '22' '11' '16' '15'\n",
      " '25' '13' '17' '28' '18' '19' '23' '38' '20' '24' '26' '21' '27' '30'\n",
      " '29' '39' '87' '35' '37' '32' '55' '56' '49' '110' '69' '75' '42' '51'\n",
      " '47' '45' '46' '40' '34' '79' '43' '120 +' '65' '41' '31' '50' '59' '44'\n",
      " '36' '70' '115' '58' '94' '33' '68' '67' '54' '80' '85' '95' '78' '91'\n",
      " '88' '48' '52' '63' '57' '74' '64' '53' '62' '97' '72' '118' '81' '90'\n",
      " '86' '106' '112' '105' '114' '66' '89' '83' '84' '82' '93' '116' '71'\n",
      " '60' '73' '61' '92' '76' '96' '77' '104' '100' '103' '102' '117' '108'\n",
      " '99' '107' '98' '101' '119' '111' '109' '113']\n",
      "******* Admission_type *******\n",
      "['Elective' 'Urgent' 'Emergency' 'Newborn' 'Not Available' 'Trauma']\n",
      "******* Home or self care, *******\n",
      "['Home or Self Care' 'Short-term Hospital'\n",
      " 'Hosp Basd Medicare Approved Swing Bed'\n",
      " 'Facility w/ Custodial/Supportive Care' 'Skilled Nursing Home' 'Expired'\n",
      " 'Left Against Medical Advice' 'Home w/ Home Health Services'\n",
      " 'Psychiatric Hospital or Unit of Hosp' 'Hospice - Home'\n",
      " 'Hospice - Medical Facility' 'Federal Health Care Facility'\n",
      " 'Inpatient Rehabilitation Facility'\n",
      " \"Cancer Center or Children's Hospital\" 'Court/Law Enforcement'\n",
      " 'Medicare Cert Long Term Care Hospital' 'Another Type Not Listed'\n",
      " 'Critical Access Hospital' 'Medicaid Cert Nursing Facility']\n",
      "******* ccs_diagnosis_code *******\n",
      "[122 197 142 154 125 127 126 159 231 145 238 146 244 153 128 155  55  58\n",
      " 118  50 233  95 157  80  99 133 236 152   8 171 170 189  26   2 175 131\n",
      " 144 130 660 129 230 101 187 195 149  48 237 218 102  51 108  47 169 172\n",
      " 103  15 226  59 242 109 192 181 185 135 100 163 207 106 193 186 190 251\n",
      " 222 211   5 224  46 184  83 148 156  24 183 140 245   7 160 191  96  42\n",
      " 250 241  14  97 205 105 182 234 253 229 143 657  93  49 196  60 239 112\n",
      " 661 246  17 653 168  27 115 257 259  90  85 138 164 136 141  92  63 663\n",
      "  43  35  19  38 167 199 173  33 161 117 147 120 121 188 203 151 248 139\n",
      " 114  62  61  18  32  13 240 659 116 110   6   3 252  39  12  98 162  25\n",
      " 137 204 202 123 201  77  54 670 158 107  29 654 165 235 124   4 194 198\n",
      "  44 180 113 254 214  57 213 104  84  81  76 651 655  36 243  21  53 232\n",
      " 217 212  91 219 225  11 177  52  64 662 200  82 656 650 652 255 166 111\n",
      "  16  94  79 134 178 210 209  34 132  41 228  78  56  40 258  23   1  89\n",
      " 206 227  37 658 247  87 216 179 119   9  10 221  45 223 215 220 256 176\n",
      "  28 208  20 249  22  31  30 174  86  88]\n",
      "******* ccs_procedure_code *******\n",
      "[  0 202 124 134 216 119 222  39  84 147  54 137  70 115  76  96 153 127\n",
      " 228 140 141 146 169 231 174 168   4 163 171  80 135 121 102  87 128 160\n",
      " 111  75  89  99 227 175 221 214  98  71  86  78 136 157  85 125  90 132\n",
      " 109 101 117  97  77  88  94 225   5 155 193 107  65  95  35 116 129 152\n",
      " 133  63  60  37  48  36  55  66  93  58  67  61 110 211 100 120  40  51\n",
      " 164  72 167  42 113  27  91 165  69  81 103 190 219  83 148 229  52  17\n",
      " 217  33 154 145 184   8 187 197  10 142 123 162 223 199 220 201  82 122\n",
      " 159 112  49 139  12  29 172 213   3  62  41 130  19  21 218 156 210 177\n",
      " 179 180 108 205 185 104  47 161 192 178 198 114 208  38  26 207 118 106\n",
      "  34  32 131 224 151 209 173  74  56 215 191 170  28  73  44  45 158  57\n",
      "  43 189   1  59  11   7 188   9   2 212 226  20 181 126   6  92 203 150\n",
      " 144  50 204  18  31 196 149  24 166  30 138  23 176 195 105  13 182  14\n",
      " 143  64 194  15  16 206  79  53  22 183 200  25 186  68]\n",
      "******* apr_drg_description *******\n",
      "['Other pneumonia' 'Cellulitis & other skin infections'\n",
      " 'Other digestive system diagnoses'\n",
      " 'Other gastroenteritis, nausa & vomiting' 'Bronchiolitis & RSV pneumonia'\n",
      " 'Chronic obstructive pulmonary disease'\n",
      " 'Infections of upper respiratory tract'\n",
      " 'Kidney & urinary tract infections'\n",
      " 'Respiratory signs, symptoms & minor diagnoses' 'Intestinal obstruction'\n",
      " 'Post-operative, post-traumatic, other device infections'\n",
      " 'Diverticulitis & diverticulosis'\n",
      " 'Other ear, nose, mouth,throat & cranial/facial diagnoses'\n",
      " 'Major chest & respiratory trauma'\n",
      " 'Other & unspecified gastrointestinal hemorrhage' 'Asthma'\n",
      " 'Electrolyte disorders except hypovolemia related'\n",
      " 'Malnutrition, failure to thrive & other nutritional disorders'\n",
      " 'Hypovolemia & related electrolyte disorders'\n",
      " 'Other injury, poisoning & toxic effect diagnoses'\n",
      " 'Peripheral & other vascular disorders'\n",
      " 'Other musculoskeletal system & connective tissue diagnoses'\n",
      " 'Other kidney & urinary tract diagnoses, signs & symptoms'\n",
      " 'Head trauma w coma >1 hr or hemorrhage'\n",
      " 'Signs, symptoms & other factors influencing health status'\n",
      " 'RENAL FAILURE' 'Multiple sclerosis & other demyelinating diseases'\n",
      " 'Hypertension' 'Interstitial & alveolar lung diseases'\n",
      " 'Contusion, open wound & other trauma to skin & subcutaneous tissue'\n",
      " 'Disorders of pancreas except malignancy' 'Connective tissue disorders'\n",
      " 'Uterine & adnexa procedures for non-malignancy except leiomyoma'\n",
      " 'Cesarean delivery' 'Septicemia & disseminated infections'\n",
      " 'Respiratory Failure' 'Inflammatory bowel disease'\n",
      " 'Other respiratory diagnoses except signs, symptoms & minor diagnoses'\n",
      " 'Alcohol abuse & dependence' 'Laparoscopic cholecystectomy'\n",
      " 'Major respiratory infections & inflammations'\n",
      " 'Fractures & dislocations except femur, pelvis & back'\n",
      " 'Angina pectoris & coronary atherosclerosis' 'Vaginal delivery'\n",
      " 'Disorders of gallbladder & biliary tract' 'Other endocrine disorders'\n",
      " 'Malfunction, reaction, complic of genitourinary device or proc'\n",
      " 'Neonate birthwt >2499g, normal newborn or neonate w other problem'\n",
      " 'Chest pain' 'Heart failure'\n",
      " 'Menstrual & other female reproductive system disorders'\n",
      " 'Pulmonary embolism' 'Peripheral, cranial & autonomic nerve disorders'\n",
      " 'Major small & large bowel procedures' 'Hip joint replacement'\n",
      " 'Major hematologic/immunologic diag exc sickle cell crisis & coagul'\n",
      " 'Poisoning of medicinal agents' 'CVA & precerebral occlusion w infarct'\n",
      " 'Nonextensive procedure unrelated to principal diagnosis'\n",
      " 'Major gastrointestinal & peritoneal infections'\n",
      " 'Acute myocardial infarction'\n",
      " 'Musculoskeletal malignancy & pathol fracture d/t muscskel malig'\n",
      " 'Cardiac arrhythmia & conduction disorders' 'Other antepartum diagnoses'\n",
      " 'Hip and femur fracture repair' 'Abdominal pain'\n",
      " 'Other anemia & disorders of blood & blood-forming organs'\n",
      " 'Malfunction, reaction & complication of GI device or procedure'\n",
      " 'Fracture of pelvis or dislocation of hip'\n",
      " 'HIV w major HIV related condition'\n",
      " 'Uterine & adnexa procedures for leiomyoma'\n",
      " 'Neonate bwt 2000-2499g, normal newborn or neonate w other problem'\n",
      " 'Opioid abuse & dependence'\n",
      " 'Respiratory system diagnosis w ventilator support 96+ hours' 'Seizure'\n",
      " 'Drug & alcohol abuse or dependence, left against medical advice'\n",
      " 'Nephritis & nephrosis'\n",
      " 'Neonate, birthwt >2499g w resp dist synd/oth maj resp cond'\n",
      " 'Malignant breast disorders' 'Peptic ulcer & gastritis'\n",
      " 'Syncope & collapse' 'Appendectomy' 'Viral illness'\n",
      " 'Vaginal delivery w sterilization &/or D&C'\n",
      " 'Urinary stones & acquired upper urinary tract obstruction'\n",
      " 'Other female reproductive system & related procedures'\n",
      " 'Moderately extensive procedure unrelated to principal diagnosis'\n",
      " 'Dilation & curettage for non-obstetric diagnoses'\n",
      " 'Cardiac structural & valvular disorders' 'Nervous system malignancy'\n",
      " 'Other back & neck disorders, fractures & injuries'\n",
      " 'Other nervous system & related procedures' 'Digestive malignancy'\n",
      " 'Other circulatory system diagnoses'\n",
      " 'Infectious & parasitic diseases including HIV w O.R. procedure'\n",
      " 'Diabetes' 'Other digestive system & abdominal procedures'\n",
      " 'Vaginal delivery w complicating procedures exc sterilization &/or D&C'\n",
      " 'Neonate, transferred < 5 days old, born here' 'Allergic reactions'\n",
      " 'Major esophageal disorders'\n",
      " 'Neonate birthwt >2499g w other significant condition'\n",
      " 'Major depressive disorders & other/unspecified psychoses'\n",
      " 'Vertigo & other labyrinth disorders'\n",
      " 'Procedure w diag of rehab, aftercare or oth contact w health service'\n",
      " 'Skin ulcers' 'Fracture of femur' 'Foot & toe procedures'\n",
      " 'Post-op, post-trauma, other device infections w O.R. procedure'\n",
      " 'Inguinal, femoral & umbilical hernia procedures'\n",
      " 'Abortion w/o D&C, aspiration curettage or hysterotomy'\n",
      " 'Transient ischemia' 'Peritoneal adhesiolysis'\n",
      " 'Toxic effects of non-medicinal substances' 'Fever'\n",
      " 'Malignancy of hepatobiliary system & pancreas'\n",
      " 'D&C, aspiration curettage or hysterotomy for obstetric diagnoses'\n",
      " 'Organic mental health disturbances' 'Preterm labor'\n",
      " 'Tendon, muscle & other soft tissue procedures' 'Intracranial hemorrhage'\n",
      " 'O.R. procedure for other complications of treatment'\n",
      " 'Urethral & transurethral procedures'\n",
      " 'Female reproductive system malignancy'\n",
      " 'Eye disorders except major infections' 'Nontraumatic stupor & coma'\n",
      " 'Other esophageal disorders'\n",
      " 'Multiple significant trauma w/o O.R. procedure'\n",
      " 'Male reproductive system diagnoses except malignancy'\n",
      " 'Other drug abuse & dependence'\n",
      " 'Osteomyelitis, septic arthritis & other musculoskeletal infections'\n",
      " 'Dental & oral diseases & injuries'\n",
      " 'Major stomach, esophageal & duodenal procedures'\n",
      " 'Respiratory malignancy'\n",
      " 'Malfunction,reaction,complication of cardiac/vasc device or procedure'\n",
      " 'Neonate birthwt >2499g w major anomaly'\n",
      " 'Other skin, subcutaneous tissue & breast disorders'\n",
      " 'Alcoholic liver disease'\n",
      " 'Lymphatic & other malignancies & neoplasms of uncertain behavior'\n",
      " 'Other significant hip and femur surgery'\n",
      " 'Major O.R. procedures for lymphatic/hematopoietic/other neoplasms'\n",
      " 'Extensive procedure unrelated to principal diagnosis'\n",
      " 'Kidney & urinary tract malignancy' 'Inborn errors of metabolism'\n",
      " 'Other hepatobiliary, pancreas & abdominal procedures'\n",
      " 'Other small & large bowel procedures'\n",
      " 'Cholecystectomy except laparoscopic' 'Anal procedures'\n",
      " 'Depression except major depressive disorder'\n",
      " 'Other disorders of nervous system'\n",
      " 'Knee & lower leg procedures except foot'\n",
      " 'Other complications of treatment'\n",
      " 'Degenerative nervous system disorders exc mult sclerosis'\n",
      " 'Knee joint replacement'\n",
      " 'Hepatic coma & other major acute liver disorders'\n",
      " 'OTHER VASCULAR PROCEDURES' 'Amputation of lower limb except toes'\n",
      " 'Gastrointestinal vascular insufficiency'\n",
      " 'Other respiratory & chest procedures' 'Splenectomy'\n",
      " 'Perm cardiac pacemaker implant w/o AMI, heart failure or shock'\n",
      " 'Other O.R. procedures for lymphatic/hematopoietic/other neoplasms'\n",
      " 'Coagulation & platelet disorders'\n",
      " 'Hernia procedures except inguinal, femoral & umbilical'\n",
      " 'Sickle cell anemia crisis' 'Major skin disorders'\n",
      " 'Partial thickness burns without skin graft'\n",
      " 'Other disorders of the liver' 'Schizophrenia'\n",
      " 'Extracranial vascular procedures'\n",
      " 'Lymphoma, myeloma & non-acute leukemia'\n",
      " 'Non-bacterial infections of nervous system exc viral meningitis'\n",
      " 'Other infectious & parasitic diseases'\n",
      " 'Uterine & adnexa procedures for non-ovarian & non-adnexal malig'\n",
      " 'Mastectomy procedures' 'Major respiratory & chest procedures'\n",
      " 'Malfunction, reaction, complic of orthopedic device or procedure'\n",
      " 'Transurethral prostatectomy'\n",
      " 'Concussion, closed skull Fx nos,uncomplicated intracranial injury, coma < 1 hr or no coma'\n",
      " 'Nonspecific CVA & precerebral occlusion w/o infarct'\n",
      " 'Breast procedures except mastectomy'\n",
      " 'Neonate birthwt >2499g w congenital/perinatal infection'\n",
      " 'Neonate bwt 2000-2499g w other significant condition'\n",
      " 'Neonate bwt 1500-1999g w or w/o other significant condition'\n",
      " 'Cardiac arrest and shock' 'Malignancy, male reproductive system'\n",
      " 'Major abdominal vascular procedures'\n",
      " 'Tracheostomy w MV 96+ hours w extensive procedure or ECMO'\n",
      " 'Other mental health disorders'\n",
      " 'Other O.R. proc for obstetric diagnoses except delivery diagnoses'\n",
      " 'Tonsil & adenoid procedures'\n",
      " 'Other kidney, urinary tract & related procedures'\n",
      " 'Female reproductive system reconstructive procedures'\n",
      " 'Shoulder, upper arm & forearm procedures except joint replacement'\n",
      " 'Permanent cardiac pacemaker implant w AMI, heart failure or shock'\n",
      " 'Ectopic pregnancy procedure'\n",
      " 'Thyroid, parathyroid & thyroglossal procedures'\n",
      " 'Female reproductive system infections'\n",
      " 'Uterine & adnexa procedures for ovarian & adnexal malignancy'\n",
      " 'Rehabilitation' 'Bipolar disorders'\n",
      " 'Other skin, subcutaneous tissue & related procedures'\n",
      " 'Tracheostomy w MV 96+ hours w/o extensive procedure' 'Eating disorders'\n",
      " 'Migraine & other headaches' 'Viral meningitis'\n",
      " 'Acute anxiety & delirium states'\n",
      " 'Postpartum & post abortion diagnoses w/o procedure'\n",
      " 'Acute major eye infections' 'Neonate bwt <500g or GA <24 weeks'\n",
      " 'Other stomach, esophageal & duodenal procedures'\n",
      " 'Other circulatory system procedures'\n",
      " 'Neonate birthwt 1500-1999g w congenital/perinatal infection'\n",
      " 'Kidney & urinary tract procedures for nonmalignancy'\n",
      " 'HIV w one signif HIV cond or w/o signif related cond'\n",
      " 'Skin graft for skin & subcutaneous tissue diagnoses'\n",
      " 'Principal diagnosis invalid as discharge diagnosis'\n",
      " 'Cystic fibrosis - pulmonary disease'\n",
      " 'Other musculoskeletal system & connective tissue procedures'\n",
      " 'Hand & wrist procedures'\n",
      " 'Neonate, transferred <5 days old, not born here'\n",
      " 'Acute & subacute endocarditis'\n",
      " 'Ear, nose, mouth, throat, cranial/facial malignancies'\n",
      " 'HIV w multiple major HIV related conditions' 'Spinal procedures'\n",
      " 'Other bladder procedures'\n",
      " 'Other procedures for endocrine, nutritional & metabolic disorders'\n",
      " 'Spinal disorders & injuries'\n",
      " 'Alcohol & drug dependence w rehab or rehab/detox therapy'\n",
      " 'Behavioral disorders'\n",
      " 'Adjustment disorders & neuroses except depressive diagnoses'\n",
      " 'Cardiac defibrillator & heart assist implant' 'Major bladder procedures'\n",
      " 'Intervertebral disc excision & decompression'\n",
      " 'Extensive abdominal/thoracic procedures for mult significant trauma'\n",
      " 'Major male pelvic procedures'\n",
      " 'Cardiac catheterization for coronary artery disease'\n",
      " 'Kidney & urinary tract procedures for malignancy'\n",
      " 'Testes & scrotal procedures'\n",
      " 'Percutaneous coronary intervention w/o AMI'\n",
      " 'Cardiac catheterization for other non-coronary conditions'\n",
      " 'Other male reproductive system & related procedures' 'Cardiomyopathy'\n",
      " 'Cardiac pacemaker & defibrillator device replacement' 'Acute leukemia'\n",
      " 'Bacterial & tuberculous infections of nervous system'\n",
      " 'Musculoskeletal & other procedures for multiple significant trauma'\n",
      " 'Neonate bwt 2000-2499g w major anomaly' 'Cocaine abuse & dependence'\n",
      " 'Major pancreas, liver & shunt procedures'\n",
      " 'Neonate bwt 2000-2499g w congenital/perinatal infection'\n",
      " 'Brain contusion/laceration & complicated skull Fx, coma < 1 hr or no coma'\n",
      " 'Coronary bypass w AMI or complex PDX'\n",
      " 'Renal dialysis access device procedure only'\n",
      " 'Percutaneous coronary intervention w AMI'\n",
      " 'Mental illness diagnosis w O.R. procedure'\n",
      " 'Cardiac valve procedures w AMI or complex PDX'\n",
      " 'Cardiac valve procedures w/o AMI or complex PDX'\n",
      " 'Dorsal & lumbar fusion proc except for curvature of back'\n",
      " 'Cardiac pacemaker & defibrillator revision except device replacement'\n",
      " 'Cervical spinal fusion & other back/neck proc exc disc excis/decomp'\n",
      " 'Craniotomy except for trauma' 'Ventricular shunt procedures'\n",
      " 'Other procedures of blood & blood-forming organs'\n",
      " 'Coronary bypass w/o AMI or complex PDX' 'Pituitary & adrenal procedures'\n",
      " 'Craniotomy for multiple significant trauma'\n",
      " 'Other cardiothoracic & thoracic vascular procedures'\n",
      " 'Procedures for obesity'\n",
      " 'Dorsal & lumbar fusion proc for curvature of back'\n",
      " 'Other ear, nose, mouth & throat procedures'\n",
      " 'Major biliary tract procedures'\n",
      " 'Skin graft, except hand, for musculoskeletal & connective tissue diagnoses'\n",
      " 'HIV w multiple significant HIV related conditions' 'Penis procedures'\n",
      " 'Other aftercare & convalescence'\n",
      " 'Disorders of personality & impulse control'\n",
      " 'Major cranial/facial bone procedures' 'Craniotomy for trauma'\n",
      " 'Facial bone procedures except major cranial/facial bone procedures'\n",
      " 'Sinus & mastoid procedures'\n",
      " 'Neonate birthwt 500-749g w/o major procedure'\n",
      " 'Neonate bwt <1500g w major procedure'\n",
      " 'Neonate birthwt 750-999g w/o major procedure'\n",
      " 'Neonate birthwt 1500-1999g w major anomaly'\n",
      " 'Neonate bwt 2000-2499g w resp dist synd/oth maj resp cond'\n",
      " 'CHEMOTHERAPY'\n",
      " 'Neonate bwt 1000-1249g w resp dist synd/oth maj resp or maj anom'\n",
      " 'Neonate bwt 1250-1499g w resp dist synd/oth maj resp or maj anom'\n",
      " 'BPD & oth chronic respiratory diseases arising in perinatal period'\n",
      " 'Neonate birthwt >2499g w other major procedure'\n",
      " 'Neonate bwt 1500-1999g w resp dist synd/oth maj resp cond'\n",
      " 'Neonate bwt 1500-2499g w major procedure'\n",
      " 'Neonate birthwt 1000-1249g w or w/o other significant condition'\n",
      " 'Orbital procedures'\n",
      " 'Neonate bwt 1250-1499g w or w/o other significant condition'\n",
      " 'Cleft lip & palate repair' 'False labor'\n",
      " 'Liver transplant &/or intestinal transplant'\n",
      " 'Major larynx & trachea procedures'\n",
      " 'Extensive 3rd degree or full thickness burns w/o skin graft'\n",
      " 'Eye procedures except orbit'\n",
      " 'Pelvic evisceration, radical hysterectomy & other radical GYN procs'\n",
      " 'Neonate w ECMO' 'Other major head & neck procedures' 'Kidney transplant'\n",
      " 'Pancreas transplant'\n",
      " 'Burns with skin graft except extensive 3rd degree burns'\n",
      " 'Major cardiothoracic repair of heart anomaly'\n",
      " 'Extensive 3rd degree burns w skin graft' 'Neonatal aftercare'\n",
      " 'Radiotherapy' 'Bone marrow transplant' 'Ungroupable'\n",
      " 'Heart &/or lung transplant'\n",
      " 'Neonate birthwt >2499g w major cardiovascular procedure']\n",
      "******* Code_illness *******\n",
      "[1 3 2 4 0]\n",
      "******* Mortality risk *******\n"
     ]
    },
    {
     "name": "stdout",
     "output_type": "stream",
     "text": [
      "[ 1.  2.  3.  4. nan]\n",
      "******* Surg_Description *******\n",
      "['Medical' 'Surgical' 'Not Applicable']\n",
      "******* Weight_baby *******\n",
      "[   0 2900 3200 3000 3600 3800 3100 3300 3500 3400 4300 2000 2300 2600\n",
      " 2700 3700 3900 2200 2800 4200 4800 4000 4100 2500 2400 2100 4400 1800\n",
      " 5100 5400 5800 1900  500 4700  700 4600 4500 1000  400 1700 1500 4900\n",
      " 6000 1300 1100 1200  300 1600 5200  900  600 1400  800  200 5000 5300\n",
      " 5600 5700 7000 5500  100 7300 8000 6100 6900 9000 8500 6400 8400 5900]\n",
      "******* Abortion *******\n",
      "['N' 'Y']\n",
      "******* Emergency dept_yes/No *******\n",
      "['Y' 'N']\n",
      "******* Tot_charg *******\n",
      "[  5511.95   4783.2    3829.15 ... 104629.78  27521.41  24832.23]\n",
      "******* Tot_cost *******\n",
      "[ 5582.49  5162.82  4056.52 ... 13896.82 24746.64  6766.04]\n",
      "******* ratio_of_total_costs_to_total_charges *******\n",
      "[1.01279761 1.0793645  1.05937866 ... 0.2365162  0.24584628 0.20033072]\n",
      "******* Result *******\n",
      "[1 0]\n",
      "******* Payment_Typology *******\n",
      "[1 2 3 4 5]\n"
     ]
    }
   ],
   "source": [
    "for col in data.columns:\n",
    "    print(\"******* {} *******\".format(col))\n",
    "    print(data[col].unique())\n",
    "#comments :\n",
    "    # 1. Hospital county has more classes \n",
    "    # 2. Days_spend_hsptl has '120 +' which is irrelevant \n",
    "    # 3. Home or self care has more classes"
   ]
  },
  {
   "cell_type": "code",
   "execution_count": 7,
   "metadata": {
    "ExecuteTime": {
     "end_time": "2021-02-01T12:26:10.661880Z",
     "start_time": "2021-02-01T12:26:10.363232Z"
    }
   },
   "outputs": [
    {
     "data": {
      "text/html": [
       "<div>\n",
       "<style scoped>\n",
       "    .dataframe tbody tr th:only-of-type {\n",
       "        vertical-align: middle;\n",
       "    }\n",
       "\n",
       "    .dataframe tbody tr th {\n",
       "        vertical-align: top;\n",
       "    }\n",
       "\n",
       "    .dataframe thead th {\n",
       "        text-align: right;\n",
       "    }\n",
       "</style>\n",
       "<table border=\"1\" class=\"dataframe\">\n",
       "  <thead>\n",
       "    <tr style=\"text-align: right;\">\n",
       "      <th></th>\n",
       "      <th>Area_Service</th>\n",
       "      <th>Hospital County</th>\n",
       "      <th>Age</th>\n",
       "      <th>Gender</th>\n",
       "      <th>Cultural_group</th>\n",
       "      <th>ethnicity</th>\n",
       "      <th>Admission_type</th>\n",
       "      <th>Home or self care,</th>\n",
       "      <th>apr_drg_description</th>\n",
       "      <th>Code_illness</th>\n",
       "      <th>Mortality risk</th>\n",
       "      <th>Surg_Description</th>\n",
       "      <th>Abortion</th>\n",
       "      <th>Emergency dept_yes/No</th>\n",
       "      <th>Payment_Typology</th>\n",
       "      <th>Result</th>\n",
       "    </tr>\n",
       "  </thead>\n",
       "  <tbody>\n",
       "    <tr>\n",
       "      <th>0</th>\n",
       "      <td>Western NY</td>\n",
       "      <td>Allegany</td>\n",
       "      <td>30 to 49</td>\n",
       "      <td>F</td>\n",
       "      <td>White</td>\n",
       "      <td>Not Span/Hispanic</td>\n",
       "      <td>Elective</td>\n",
       "      <td>Home or Self Care</td>\n",
       "      <td>Other pneumonia</td>\n",
       "      <td>1</td>\n",
       "      <td>1.0</td>\n",
       "      <td>Medical</td>\n",
       "      <td>N</td>\n",
       "      <td>Y</td>\n",
       "      <td>1</td>\n",
       "      <td>1</td>\n",
       "    </tr>\n",
       "    <tr>\n",
       "      <th>1</th>\n",
       "      <td>Western NY</td>\n",
       "      <td>Allegany</td>\n",
       "      <td>70 or Older</td>\n",
       "      <td>F</td>\n",
       "      <td>White</td>\n",
       "      <td>Not Span/Hispanic</td>\n",
       "      <td>Urgent</td>\n",
       "      <td>Short-term Hospital</td>\n",
       "      <td>Cellulitis &amp; other skin infections</td>\n",
       "      <td>3</td>\n",
       "      <td>2.0</td>\n",
       "      <td>Medical</td>\n",
       "      <td>N</td>\n",
       "      <td>Y</td>\n",
       "      <td>1</td>\n",
       "      <td>1</td>\n",
       "    </tr>\n",
       "    <tr>\n",
       "      <th>2</th>\n",
       "      <td>Western NY</td>\n",
       "      <td>Allegany</td>\n",
       "      <td>30 to 49</td>\n",
       "      <td>F</td>\n",
       "      <td>White</td>\n",
       "      <td>Not Span/Hispanic</td>\n",
       "      <td>Urgent</td>\n",
       "      <td>Home or Self Care</td>\n",
       "      <td>Other pneumonia</td>\n",
       "      <td>1</td>\n",
       "      <td>1.0</td>\n",
       "      <td>Medical</td>\n",
       "      <td>N</td>\n",
       "      <td>Y</td>\n",
       "      <td>1</td>\n",
       "      <td>1</td>\n",
       "    </tr>\n",
       "    <tr>\n",
       "      <th>3</th>\n",
       "      <td>Western NY</td>\n",
       "      <td>Allegany</td>\n",
       "      <td>0 to 17</td>\n",
       "      <td>F</td>\n",
       "      <td>White</td>\n",
       "      <td>Not Span/Hispanic</td>\n",
       "      <td>Urgent</td>\n",
       "      <td>Home or Self Care</td>\n",
       "      <td>Other pneumonia</td>\n",
       "      <td>1</td>\n",
       "      <td>1.0</td>\n",
       "      <td>Medical</td>\n",
       "      <td>N</td>\n",
       "      <td>Y</td>\n",
       "      <td>1</td>\n",
       "      <td>0</td>\n",
       "    </tr>\n",
       "    <tr>\n",
       "      <th>4</th>\n",
       "      <td>Western NY</td>\n",
       "      <td>Allegany</td>\n",
       "      <td>70 or Older</td>\n",
       "      <td>F</td>\n",
       "      <td>White</td>\n",
       "      <td>Not Span/Hispanic</td>\n",
       "      <td>Elective</td>\n",
       "      <td>Home or Self Care</td>\n",
       "      <td>Other pneumonia</td>\n",
       "      <td>2</td>\n",
       "      <td>3.0</td>\n",
       "      <td>Medical</td>\n",
       "      <td>N</td>\n",
       "      <td>Y</td>\n",
       "      <td>1</td>\n",
       "      <td>1</td>\n",
       "    </tr>\n",
       "  </tbody>\n",
       "</table>\n",
       "</div>"
      ],
      "text/plain": [
       "  Area_Service Hospital County          Age Gender Cultural_group  \\\n",
       "0   Western NY        Allegany     30 to 49      F          White   \n",
       "1   Western NY        Allegany  70 or Older      F          White   \n",
       "2   Western NY        Allegany     30 to 49      F          White   \n",
       "3   Western NY        Allegany      0 to 17      F          White   \n",
       "4   Western NY        Allegany  70 or Older      F          White   \n",
       "\n",
       "           ethnicity Admission_type   Home or self care,  \\\n",
       "0  Not Span/Hispanic       Elective    Home or Self Care   \n",
       "1  Not Span/Hispanic         Urgent  Short-term Hospital   \n",
       "2  Not Span/Hispanic         Urgent    Home or Self Care   \n",
       "3  Not Span/Hispanic         Urgent    Home or Self Care   \n",
       "4  Not Span/Hispanic       Elective    Home or Self Care   \n",
       "\n",
       "                  apr_drg_description  Code_illness  Mortality risk  \\\n",
       "0                     Other pneumonia             1             1.0   \n",
       "1  Cellulitis & other skin infections             3             2.0   \n",
       "2                     Other pneumonia             1             1.0   \n",
       "3                     Other pneumonia             1             1.0   \n",
       "4                     Other pneumonia             2             3.0   \n",
       "\n",
       "  Surg_Description Abortion Emergency dept_yes/No  Payment_Typology  Result  \n",
       "0          Medical        N                     Y                 1       1  \n",
       "1          Medical        N                     Y                 1       1  \n",
       "2          Medical        N                     Y                 1       1  \n",
       "3          Medical        N                     Y                 1       0  \n",
       "4          Medical        N                     Y                 1       1  "
      ]
     },
     "execution_count": 7,
     "metadata": {},
     "output_type": "execute_result"
    }
   ],
   "source": [
    "#taking categorical features seperately \n",
    "categorical_feature_list = ['Area_Service','Hospital County','Age','Gender','Cultural_group','ethnicity','Admission_type','Home or self care,','apr_drg_description','Code_illness','Mortality risk','Surg_Description','Abortion','Emergency dept_yes/No','Payment_Typology','Result']\n",
    "data_cat=data[categorical_feature_list]\n",
    "data_cat.head()"
   ]
  },
  {
   "cell_type": "code",
   "execution_count": 8,
   "metadata": {
    "ExecuteTime": {
     "end_time": "2021-02-01T12:26:12.617296Z",
     "start_time": "2021-02-01T12:26:12.473196Z"
    }
   },
   "outputs": [
    {
     "name": "stdout",
     "output_type": "stream",
     "text": [
      "<class 'pandas.core.frame.DataFrame'>\n",
      "RangeIndex: 1048575 entries, 0 to 1048574\n",
      "Data columns (total 7 columns):\n",
      " #   Column                                 Non-Null Count    Dtype  \n",
      "---  ------                                 --------------    -----  \n",
      " 0   Days_spend_hsptl                       1048575 non-null  object \n",
      " 1   ccs_diagnosis_code                     1048575 non-null  int64  \n",
      " 2   ccs_procedure_code                     1048575 non-null  int64  \n",
      " 3   Weight_baby                            1048575 non-null  int64  \n",
      " 4   Tot_charg                              1048575 non-null  float64\n",
      " 5   Tot_cost                               1048575 non-null  float64\n",
      " 6   ratio_of_total_costs_to_total_charges  1048575 non-null  float64\n",
      "dtypes: float64(3), int64(3), object(1)\n",
      "memory usage: 56.0+ MB\n"
     ]
    }
   ],
   "source": [
    "#taking numerical features \n",
    "num_features=[]\n",
    "for col in data.columns:\n",
    "    if col not in categorical_feature_list:\n",
    "      num_features.append(col)\n",
    "\n",
    "data_num = data[num_features]\n",
    "data_num.info()"
   ]
  },
  {
   "cell_type": "code",
   "execution_count": 9,
   "metadata": {
    "ExecuteTime": {
     "end_time": "2021-02-01T12:26:27.406775Z",
     "start_time": "2021-02-01T12:26:26.522146Z"
    },
    "scrolled": true
   },
   "outputs": [
    {
     "name": "stdout",
     "output_type": "stream",
     "text": [
      " unique count in Area_Service is : 7 \n",
      " unique count in Hospital County is : 51 \n",
      " unique count in Age is : 5 \n",
      " unique count in Gender is : 3 \n",
      " unique count in Cultural_group is : 4 \n",
      " unique count in ethnicity is : 3 \n",
      " unique count in Admission_type is : 6 \n",
      " unique count in Home or self care, is : 19 \n",
      " unique count in apr_drg_description is : 316 \n",
      " unique count in Code_illness is : 5 \n",
      " unique count in Mortality risk is : 4 \n",
      " unique count in Surg_Description is : 3 \n",
      " unique count in Abortion is : 2 \n",
      " unique count in Emergency dept_yes/No is : 2 \n",
      " unique count in Payment_Typology is : 5 \n",
      " unique count in Result is : 2 \n"
     ]
    }
   ],
   "source": [
    "#counting classes for each categorical variable \n",
    "for i in range(0,len(data_cat.columns)):\n",
    "    count=data[data_cat.columns[i]].nunique()\n",
    "    print(\" unique count in {} is : {} \".format(data_cat.columns[i],count))\n",
    "#Hospital County has 51 classes \n",
    "#Home or  self care has 19 classes\n",
    "#apr_drg_description has 316 classes"
   ]
  },
  {
   "cell_type": "code",
   "execution_count": 10,
   "metadata": {
    "ExecuteTime": {
     "end_time": "2021-02-01T12:26:29.776522Z",
     "start_time": "2021-02-01T12:26:29.633370Z"
    }
   },
   "outputs": [],
   "source": [
    "#dropping  above three\n",
    "data_cat=data_cat.drop(['Hospital County','Home or self care,','apr_drg_description'],axis=1)"
   ]
  },
  {
   "cell_type": "code",
   "execution_count": 11,
   "metadata": {
    "ExecuteTime": {
     "end_time": "2021-02-01T12:26:56.000600Z",
     "start_time": "2021-02-01T12:26:33.594048Z"
    }
   },
   "outputs": [
    {
     "name": "stderr",
     "output_type": "stream",
     "text": [
      "C:\\Users\\Pavan786\\anaconda3\\lib\\site-packages\\pandas\\core\\indexing.py:965: SettingWithCopyWarning: \n",
      "A value is trying to be set on a copy of a slice from a DataFrame.\n",
      "Try using .loc[row_indexer,col_indexer] = value instead\n",
      "\n",
      "See the caveats in the documentation: https://pandas.pydata.org/pandas-docs/stable/user_guide/indexing.html#returning-a-view-versus-a-copy\n",
      "  self.obj[item] = s\n"
     ]
    }
   ],
   "source": [
    "# In 'Days_spend_hsptl'  value '120 +' \n",
    "#which causes issue while plotting \n",
    "#changing that to '120'\n",
    "for i in range(0,len(data_num['Days_spend_hsptl'])):\n",
    "     if data_num.iloc[i,0]=='120 +':\n",
    "        data_num.iloc[i,0]='120'"
   ]
  },
  {
   "cell_type": "code",
   "execution_count": 12,
   "metadata": {
    "ExecuteTime": {
     "end_time": "2021-02-01T12:27:02.069634Z",
     "start_time": "2021-02-01T12:27:01.969556Z"
    }
   },
   "outputs": [
    {
     "name": "stdout",
     "output_type": "stream",
     "text": [
      "<class 'pandas.core.frame.DataFrame'>\n",
      "RangeIndex: 1048575 entries, 0 to 1048574\n",
      "Data columns (total 7 columns):\n",
      " #   Column                                 Non-Null Count    Dtype  \n",
      "---  ------                                 --------------    -----  \n",
      " 0   Days_spend_hsptl                       1048575 non-null  object \n",
      " 1   ccs_diagnosis_code                     1048575 non-null  int64  \n",
      " 2   ccs_procedure_code                     1048575 non-null  int64  \n",
      " 3   Weight_baby                            1048575 non-null  int64  \n",
      " 4   Tot_charg                              1048575 non-null  float64\n",
      " 5   Tot_cost                               1048575 non-null  float64\n",
      " 6   ratio_of_total_costs_to_total_charges  1048575 non-null  float64\n",
      "dtypes: float64(3), int64(3), object(1)\n",
      "memory usage: 56.0+ MB\n"
     ]
    }
   ],
   "source": [
    "data_num.info()\n",
    "#Days_spend_hsptl is in Object type"
   ]
  },
  {
   "cell_type": "code",
   "execution_count": 13,
   "metadata": {
    "ExecuteTime": {
     "end_time": "2021-02-01T12:27:10.515244Z",
     "start_time": "2021-02-01T12:27:09.729489Z"
    }
   },
   "outputs": [
    {
     "name": "stdout",
     "output_type": "stream",
     "text": [
      "<class 'pandas.core.frame.DataFrame'>\n",
      "RangeIndex: 1048575 entries, 0 to 1048574\n",
      "Data columns (total 7 columns):\n",
      " #   Column                                 Non-Null Count    Dtype  \n",
      "---  ------                                 --------------    -----  \n",
      " 0   Days_spend_hsptl                       1048575 non-null  int8   \n",
      " 1   ccs_diagnosis_code                     1048575 non-null  int64  \n",
      " 2   ccs_procedure_code                     1048575 non-null  int64  \n",
      " 3   Weight_baby                            1048575 non-null  int64  \n",
      " 4   Tot_charg                              1048575 non-null  float64\n",
      " 5   Tot_cost                               1048575 non-null  float64\n",
      " 6   ratio_of_total_costs_to_total_charges  1048575 non-null  float64\n",
      "dtypes: float64(3), int64(3), int8(1)\n",
      "memory usage: 49.0 MB\n"
     ]
    },
    {
     "name": "stderr",
     "output_type": "stream",
     "text": [
      "C:\\Users\\Pavan786\\anaconda3\\lib\\site-packages\\ipykernel_launcher.py:2: SettingWithCopyWarning: \n",
      "A value is trying to be set on a copy of a slice from a DataFrame.\n",
      "Try using .loc[row_indexer,col_indexer] = value instead\n",
      "\n",
      "See the caveats in the documentation: https://pandas.pydata.org/pandas-docs/stable/user_guide/indexing.html#returning-a-view-versus-a-copy\n",
      "  \n"
     ]
    }
   ],
   "source": [
    "#changing it to Int type\n",
    "data_num['Days_spend_hsptl']=pd.to_numeric(data_num['Days_spend_hsptl'],downcast='integer')\n",
    "data_num.info()"
   ]
  },
  {
   "cell_type": "code",
   "execution_count": 14,
   "metadata": {
    "ExecuteTime": {
     "end_time": "2021-02-01T12:27:23.267282Z",
     "start_time": "2021-02-01T12:27:18.041534Z"
    }
   },
   "outputs": [
    {
     "data": {
      "image/png": "[encoded data removed]",
      "text/plain": [
       "<Figure size 1800x1800 with 9 Axes>"
      ]
     },
     "metadata": {
      "needs_background": "light"
     },
     "output_type": "display_data"
    }
   ],
   "source": [
    "fig,ax=plt.subplots(3,3,figsize=(25,25))\n",
    "for i,ax in enumerate(fig.axes):\n",
    "    if i < len(data_num.columns):\n",
    "        sns.distplot(data_num.iloc[:,i],color='g', bins=100,kde_kws={'bw':0.1},ax=ax)\n",
    "        plt.subplots_adjust(wspace=.5, hspace=.5)\n",
    "#comments \n",
    "        # In all variables zeros are more as a result distribution is not clear\n",
    "        # we try removing those zeros for plotting purpose"
   ]
  },
  {
   "cell_type": "code",
   "execution_count": 15,
   "metadata": {
    "ExecuteTime": {
     "end_time": "2021-02-01T12:27:36.605839Z",
     "start_time": "2021-02-01T12:27:35.122526Z"
    },
    "scrolled": true
   },
   "outputs": [
    {
     "data": {
      "text/plain": [
       "<matplotlib.axes._subplots.AxesSubplot at 0xa681856988>"
      ]
     },
     "execution_count": 15,
     "metadata": {},
     "output_type": "execute_result"
    },
    {
     "data": {
      "image/png": "[encoded data removed]",
      "text/plain": [
       "<Figure size 432x288 with 2 Axes>"
      ]
     },
     "metadata": {
      "needs_background": "light"
     },
     "output_type": "display_data"
    }
   ],
   "source": [
    "#heatmap\n",
    "cor=data_num.corr()\n",
    "sns.heatmap(cor,cmap='viridis',vmax=1.0,vmin=-1.0,linewidths=0.1,annot=True,annot_kws={'size':8},square=True)\n",
    "#comments\n",
    "          # 1. Tot_charg is correlated with  Days_spend_hsptl --0.67  \n",
    "          # 2. Tot_cost is correlated with  Tot_charg-----0.72"
   ]
  },
  {
   "cell_type": "code",
   "execution_count": 16,
   "metadata": {
    "ExecuteTime": {
     "end_time": "2021-02-01T12:27:53.315701Z",
     "start_time": "2021-02-01T12:27:47.145961Z"
    }
   },
   "outputs": [
    {
     "data": {
      "image/png": "[encoded data removed]",
      "text/plain": [
       "<Figure size 360x360 with 1 Axes>"
      ]
     },
     "metadata": {
      "needs_background": "light"
     },
     "output_type": "display_data"
    },
    {
     "data": {
      "image/png": "[encoded data removed]",
      "text/plain": [
       "<Figure size 360x360 with 1 Axes>"
      ]
     },
     "metadata": {
      "needs_background": "light"
     },
     "output_type": "display_data"
    },
    {
     "data": {
      "image/png": "[encoded data removed]",
      "text/plain": [
       "<Figure size 360x360 with 1 Axes>"
      ]
     },
     "metadata": {
      "needs_background": "light"
     },
     "output_type": "display_data"
    },
    {
     "data": {
      "image/png": "[encoded data removed]",
      "text/plain": [
       "<Figure size 360x360 with 1 Axes>"
      ]
     },
     "metadata": {
      "needs_background": "light"
     },
     "output_type": "display_data"
    },
    {
     "data": {
      "image/png": "[encoded data removed]",
      "text/plain": [
       "<Figure size 360x360 with 1 Axes>"
      ]
     },
     "metadata": {
      "needs_background": "light"
     },
     "output_type": "display_data"
    },
    {
     "data": {
      "image/png": "[encoded data removed]",
      "text/plain": [
       "<Figure size 360x360 with 1 Axes>"
      ]
     },
     "metadata": {
      "needs_background": "light"
     },
     "output_type": "display_data"
    },
    {
     "data": {
      "image/png": "[encoded data removed]",
      "text/plain": [
       "<Figure size 360x360 with 1 Axes>"
      ]
     },
     "metadata": {
      "needs_background": "light"
     },
     "output_type": "display_data"
    }
   ],
   "source": [
    "################  numerical vs Target ########       \n",
    "data_num=data_num.join(data['Result'])\n",
    "for i in range(0,7):\n",
    " sns.catplot(x='Result',y=data_num.columns[i],kind='box',data=data_num)\n",
    " #ccs_diagnosis_code and  ccs_procedure_code showing same proportions with 1 and 0"
   ]
  },
  {
   "cell_type": "code",
   "execution_count": 17,
   "metadata": {
    "ExecuteTime": {
     "end_time": "2021-02-01T12:28:06.729629Z",
     "start_time": "2021-02-01T12:28:00.354806Z"
    }
   },
   "outputs": [
    {
     "data": {
      "image/png": "[encoded data removed]",
      "text/plain": [
       "<Figure size 432x288 with 1 Axes>"
      ]
     },
     "metadata": {
      "needs_background": "light"
     },
     "output_type": "display_data"
    },
    {
     "data": {
      "image/png": "[encoded data removed]",
      "text/plain": [
       "<Figure size 432x288 with 1 Axes>"
      ]
     },
     "metadata": {
      "needs_background": "light"
     },
     "output_type": "display_data"
    },
    {
     "data": {
      "image/png": "[encoded data removed]",
      "text/plain": [
       "<Figure size 432x288 with 1 Axes>"
      ]
     },
     "metadata": {
      "needs_background": "light"
     },
     "output_type": "display_data"
    },
    {
     "data": {
      "image/png": "[encoded data removed]",
      "text/plain": [
       "<Figure size 432x288 with 1 Axes>"
      ]
     },
     "metadata": {
      "needs_background": "light"
     },
     "output_type": "display_data"
    },
    {
     "data": {
      "image/png": "[encoded data removed]",
      "text/plain": [
       "<Figure size 432x288 with 1 Axes>"
      ]
     },
     "metadata": {
      "needs_background": "light"
     },
     "output_type": "display_data"
    },
    {
     "data": {
      "image/png": "[encoded data removed]",
      "text/plain": [
       "<Figure size 432x288 with 1 Axes>"
      ]
     },
     "metadata": {
      "needs_background": "light"
     },
     "output_type": "display_data"
    },
    {
     "data": {
      "image/png": "[encoded data removed]",
      "text/plain": [
       "<Figure size 432x288 with 1 Axes>"
      ]
     },
     "metadata": {
      "needs_background": "light"
     },
     "output_type": "display_data"
    },
    {
     "data": {
      "image/png": "[encoded data removed]",
      "text/plain": [
       "<Figure size 432x288 with 1 Axes>"
      ]
     },
     "metadata": {
      "needs_background": "light"
     },
     "output_type": "display_data"
    },
    {
     "data": {
      "image/png": "[encoded data removed]",
      "text/plain": [
       "<Figure size 432x288 with 1 Axes>"
      ]
     },
     "metadata": {
      "needs_background": "light"
     },
     "output_type": "display_data"
    },
    {
     "data": {
      "image/png": "[encoded data removed]",
      "text/plain": [
       "<Figure size 432x288 with 1 Axes>"
      ]
     },
     "metadata": {
      "needs_background": "light"
     },
     "output_type": "display_data"
    },
    {
     "data": {
      "image/png": "[encoded data removed]",
      "text/plain": [
       "<Figure size 432x288 with 1 Axes>"
      ]
     },
     "metadata": {
      "needs_background": "light"
     },
     "output_type": "display_data"
    },
    {
     "data": {
      "image/png": "[encoded data removed]",
      "text/plain": [
       "<Figure size 432x288 with 1 Axes>"
      ]
     },
     "metadata": {
      "needs_background": "light"
     },
     "output_type": "display_data"
    }
   ],
   "source": [
    "for i in range(0,len(data_cat.columns)):\n",
    "  if i < len(data_cat.columns)-1:  \n",
    "    fig,axes =plt.subplots(1,1)\n",
    "    for j,ax in enumerate(fig.axes):\n",
    "     sns.countplot(x=data_cat.columns[j+i], hue=\"Result\", data=data_cat,ax=ax) \n",
    "\n",
    "\n",
    "#comments :\n",
    "          # 1. In Gender remove \"U\"\n",
    "          # 2. In cultural group Remove Unknown\n",
    "          # 3. In Admission type remove available,Trauma\n",
    "          # 4. In code_illness remove 'zero'\n",
    "          # 5. In Surg_Description remove 'Not Applicable'\n",
    "          # 6. Remove Abortion "
   ]
  },
  {
   "cell_type": "code",
   "execution_count": 18,
   "metadata": {
    "ExecuteTime": {
     "end_time": "2021-02-01T12:28:14.560318Z",
     "start_time": "2021-02-01T12:28:14.048955Z"
    }
   },
   "outputs": [
    {
     "data": {
      "text/plain": [
       "Area_Service             2456\n",
       "Age                         0\n",
       "Gender                      0\n",
       "Cultural_group              0\n",
       "ethnicity                   0\n",
       "Admission_type              0\n",
       "Code_illness                0\n",
       "Mortality risk             42\n",
       "Surg_Description            0\n",
       "Abortion                    0\n",
       "Emergency dept_yes/No       0\n",
       "Payment_Typology            0\n",
       "Result                      0\n",
       "dtype: int64"
      ]
     },
     "execution_count": 18,
     "metadata": {},
     "output_type": "execute_result"
    }
   ],
   "source": [
    "data_cat.isnull().sum()"
   ]
  },
  {
   "cell_type": "code",
   "execution_count": 19,
   "metadata": {
    "ExecuteTime": {
     "end_time": "2021-02-01T12:28:18.424925Z",
     "start_time": "2021-02-01T12:28:18.257768Z"
    }
   },
   "outputs": [],
   "source": [
    "# replacing NaN for Area_Service with mode\n",
    "mode_Area_Service = data_cat['Area_Service'].mode().values[0]\n",
    "mode_Area_Service\n",
    "data_cat['Area_Service'].replace(np.nan,mode_Area_Service,inplace=True)"
   ]
  },
  {
   "cell_type": "code",
   "execution_count": 20,
   "metadata": {
    "ExecuteTime": {
     "end_time": "2021-02-01T12:28:19.331583Z",
     "start_time": "2021-02-01T12:28:19.299509Z"
    }
   },
   "outputs": [],
   "source": [
    "# replacing NaN for Area_Service with mode\n",
    "mode_Mortality_risk = data_cat['Mortality risk'].mode().values[0]\n",
    "mode_Mortality_risk\n",
    "data_cat['Mortality risk'].replace(np.nan,mode_Mortality_risk,inplace=True)"
   ]
  },
  {
   "cell_type": "code",
   "execution_count": 23,
   "metadata": {
    "ExecuteTime": {
     "end_time": "2021-02-01T12:30:07.806059Z",
     "start_time": "2021-02-01T12:30:06.602187Z"
    }
   },
   "outputs": [],
   "source": [
    "licat=[]\n",
    "licat=data_cat.columns.values.tolist()\n",
    "licat.remove('Result')\n",
    "licat\n",
    "data_cat_df=pd.get_dummies(data_cat,columns=licat,drop_first=False)"
   ]
  },
  {
   "cell_type": "code",
   "execution_count": 110,
   "metadata": {
    "ExecuteTime": {
     "end_time": "2021-02-01T20:25:15.423850Z",
     "start_time": "2021-02-01T20:25:15.004429Z"
    }
   },
   "outputs": [
    {
     "name": "stdout",
     "output_type": "stream",
     "text": [
      "<class 'pandas.core.frame.DataFrame'>\n",
      "RangeIndex: 1048575 entries, 0 to 1048574\n",
      "Data columns (total 57 columns):\n",
      " #   Column                                 Non-Null Count    Dtype  \n",
      "---  ------                                 --------------    -----  \n",
      " 0   Days_spend_hsptl                       1048575 non-null  int8   \n",
      " 1   ccs_diagnosis_code                     1048575 non-null  int64  \n",
      " 2   ccs_procedure_code                     1048575 non-null  int64  \n",
      " 3   Weight_baby                            1048575 non-null  int64  \n",
      " 4   Tot_charg                              1048575 non-null  float64\n",
      " 5   Tot_cost                               1048575 non-null  float64\n",
      " 6   ratio_of_total_costs_to_total_charges  1048575 non-null  float64\n",
      " 7   Result                                 1048575 non-null  int64  \n",
      " 8   Area_Service_Capital/Adirond           1048575 non-null  uint8  \n",
      " 9   Area_Service_Central NY                1048575 non-null  uint8  \n",
      " 10  Area_Service_Finger Lakes              1048575 non-null  uint8  \n",
      " 11  Area_Service_Hudson Valley             1048575 non-null  uint8  \n",
      " 12  Area_Service_New York City             1048575 non-null  uint8  \n",
      " 13  Area_Service_Southern Tier             1048575 non-null  uint8  \n",
      " 14  Area_Service_Western NY                1048575 non-null  uint8  \n",
      " 15  Age_0 to 17                            1048575 non-null  uint8  \n",
      " 16  Age_18 to 29                           1048575 non-null  uint8  \n",
      " 17  Age_30 to 49                           1048575 non-null  uint8  \n",
      " 18  Age_50 to 69                           1048575 non-null  uint8  \n",
      " 19  Age_70 or Older                        1048575 non-null  uint8  \n",
      " 20  Gender_F                               1048575 non-null  uint8  \n",
      " 21  Gender_M                               1048575 non-null  uint8  \n",
      " 22  Gender_U                               1048575 non-null  uint8  \n",
      " 23  Cultural_group_Black/African American  1048575 non-null  uint8  \n",
      " 24  Cultural_group_Other Race              1048575 non-null  uint8  \n",
      " 25  Cultural_group_Unknown                 1048575 non-null  uint8  \n",
      " 26  Cultural_group_White                   1048575 non-null  uint8  \n",
      " 27  ethnicity_Not Span/Hispanic            1048575 non-null  uint8  \n",
      " 28  ethnicity_Spanish/Hispanic             1048575 non-null  uint8  \n",
      " 29  ethnicity_Unknown                      1048575 non-null  uint8  \n",
      " 30  Admission_type_Elective                1048575 non-null  uint8  \n",
      " 31  Admission_type_Emergency               1048575 non-null  uint8  \n",
      " 32  Admission_type_Newborn                 1048575 non-null  uint8  \n",
      " 33  Admission_type_Not Available           1048575 non-null  uint8  \n",
      " 34  Admission_type_Trauma                  1048575 non-null  uint8  \n",
      " 35  Admission_type_Urgent                  1048575 non-null  uint8  \n",
      " 36  Code_illness_0                         1048575 non-null  uint8  \n",
      " 37  Code_illness_1                         1048575 non-null  uint8  \n",
      " 38  Code_illness_2                         1048575 non-null  uint8  \n",
      " 39  Code_illness_3                         1048575 non-null  uint8  \n",
      " 40  Code_illness_4                         1048575 non-null  uint8  \n",
      " 41  Mortality risk_1.0                     1048575 non-null  uint8  \n",
      " 42  Mortality risk_2.0                     1048575 non-null  uint8  \n",
      " 43  Mortality risk_3.0                     1048575 non-null  uint8  \n",
      " 44  Mortality risk_4.0                     1048575 non-null  uint8  \n",
      " 45  Surg_Description_Medical               1048575 non-null  uint8  \n",
      " 46  Surg_Description_Not Applicable        1048575 non-null  uint8  \n",
      " 47  Surg_Description_Surgical              1048575 non-null  uint8  \n",
      " 48  Abortion_N                             1048575 non-null  uint8  \n",
      " 49  Abortion_Y                             1048575 non-null  uint8  \n",
      " 50  Emergency dept_yes/No_N                1048575 non-null  uint8  \n",
      " 51  Emergency dept_yes/No_Y                1048575 non-null  uint8  \n",
      " 52  Payment_Typology_1                     1048575 non-null  uint8  \n",
      " 53  Payment_Typology_2                     1048575 non-null  uint8  \n",
      " 54  Payment_Typology_3                     1048575 non-null  uint8  \n",
      " 55  Payment_Typology_4                     1048575 non-null  uint8  \n",
      " 56  Payment_Typology_5                     1048575 non-null  uint8  \n",
      "dtypes: float64(3), int64(4), int8(1), uint8(49)\n",
      "memory usage: 106.0 MB\n"
     ]
    }
   ],
   "source": [
    "#data_num=data_num.drop(['Result'],axis=1)\n",
    "data_final = pd.concat([data_num,data_cat_df],axis=1)\n",
    "data_final.info()"
   ]
  },
  {
   "cell_type": "code",
   "execution_count": 26,
   "metadata": {
    "ExecuteTime": {
     "end_time": "2021-02-01T12:31:45.380342Z",
     "start_time": "2021-02-01T12:31:41.098549Z"
    }
   },
   "outputs": [],
   "source": [
    "# feature selection for numeric input and categorical output\n",
    "\n",
    "from sklearn.datasets import make_classification\n",
    "from sklearn.feature_selection import SelectKBest\n",
    "from sklearn.feature_selection import f_classif\n",
    "\n",
    "# define feature selection\n",
    "fs = SelectKBest(score_func=f_classif, k=3)\n",
    "# apply feature selection\n",
    "X_selected = fs.fit_transform(data_num, data_cat_df['Result'])"
   ]
  },
  {
   "cell_type": "code",
   "execution_count": 27,
   "metadata": {
    "ExecuteTime": {
     "end_time": "2021-02-01T12:31:52.262961Z",
     "start_time": "2021-02-01T12:31:52.257959Z"
    }
   },
   "outputs": [
    {
     "data": {
      "text/plain": [
       "array([[4.0000000e+00, 5.5119500e+03, 5.5824900e+03],\n",
       "       [4.0000000e+00, 4.7832000e+03, 5.1628200e+03],\n",
       "       [3.0000000e+00, 3.8291500e+03, 4.0565200e+03],\n",
       "       ...,\n",
       "       [1.3000000e+01, 1.0462978e+05, 2.4746640e+04],\n",
       "       [2.0000000e+00, 2.7521410e+04, 6.7660400e+03],\n",
       "       [2.0000000e+00, 2.4832230e+04, 4.9746600e+03]])"
      ]
     },
     "execution_count": 27,
     "metadata": {},
     "output_type": "execute_result"
    }
   ],
   "source": [
    "X_selected"
   ]
  },
  {
   "cell_type": "code",
   "execution_count": 28,
   "metadata": {
    "ExecuteTime": {
     "end_time": "2021-01-31T19:25:07.289352Z",
     "start_time": "2021-01-31T19:25:07.275344Z"
    }
   },
   "outputs": [
    {
     "data": {
      "text/html": [
       "<div>\n",
       "<style scoped>\n",
       "    .dataframe tbody tr th:only-of-type {\n",
       "        vertical-align: middle;\n",
       "    }\n",
       "\n",
       "    .dataframe tbody tr th {\n",
       "        vertical-align: top;\n",
       "    }\n",
       "\n",
       "    .dataframe thead th {\n",
       "        text-align: right;\n",
       "    }\n",
       "</style>\n",
       "<table border=\"1\" class=\"dataframe\">\n",
       "  <thead>\n",
       "    <tr style=\"text-align: right;\">\n",
       "      <th></th>\n",
       "      <th>Days_spend_hsptl</th>\n",
       "      <th>ccs_diagnosis_code</th>\n",
       "      <th>ccs_procedure_code</th>\n",
       "      <th>Weight_baby</th>\n",
       "      <th>Tot_charg</th>\n",
       "      <th>Tot_cost</th>\n",
       "      <th>ratio_of_total_costs_to_total_charges</th>\n",
       "    </tr>\n",
       "  </thead>\n",
       "  <tbody>\n",
       "    <tr>\n",
       "      <th>0</th>\n",
       "      <td>4</td>\n",
       "      <td>122</td>\n",
       "      <td>0</td>\n",
       "      <td>0</td>\n",
       "      <td>5511.95</td>\n",
       "      <td>5582.49</td>\n",
       "      <td>1.012798</td>\n",
       "    </tr>\n",
       "    <tr>\n",
       "      <th>1</th>\n",
       "      <td>4</td>\n",
       "      <td>197</td>\n",
       "      <td>0</td>\n",
       "      <td>0</td>\n",
       "      <td>4783.20</td>\n",
       "      <td>5162.82</td>\n",
       "      <td>1.079365</td>\n",
       "    </tr>\n",
       "    <tr>\n",
       "      <th>2</th>\n",
       "      <td>3</td>\n",
       "      <td>122</td>\n",
       "      <td>0</td>\n",
       "      <td>0</td>\n",
       "      <td>3829.15</td>\n",
       "      <td>4056.52</td>\n",
       "      <td>1.059379</td>\n",
       "    </tr>\n",
       "    <tr>\n",
       "      <th>3</th>\n",
       "      <td>1</td>\n",
       "      <td>122</td>\n",
       "      <td>0</td>\n",
       "      <td>0</td>\n",
       "      <td>1108.20</td>\n",
       "      <td>1644.75</td>\n",
       "      <td>1.484167</td>\n",
       "    </tr>\n",
       "    <tr>\n",
       "      <th>4</th>\n",
       "      <td>3</td>\n",
       "      <td>122</td>\n",
       "      <td>0</td>\n",
       "      <td>0</td>\n",
       "      <td>3418.18</td>\n",
       "      <td>3370.87</td>\n",
       "      <td>0.986161</td>\n",
       "    </tr>\n",
       "  </tbody>\n",
       "</table>\n",
       "</div>"
      ],
      "text/plain": [
       "   Days_spend_hsptl  ccs_diagnosis_code  ccs_procedure_code  Weight_baby  \\\n",
       "0                 4                 122                   0            0   \n",
       "1                 4                 197                   0            0   \n",
       "2                 3                 122                   0            0   \n",
       "3                 1                 122                   0            0   \n",
       "4                 3                 122                   0            0   \n",
       "\n",
       "   Tot_charg  Tot_cost  ratio_of_total_costs_to_total_charges  \n",
       "0    5511.95   5582.49                               1.012798  \n",
       "1    4783.20   5162.82                               1.079365  \n",
       "2    3829.15   4056.52                               1.059379  \n",
       "3    1108.20   1644.75                               1.484167  \n",
       "4    3418.18   3370.87                               0.986161  "
      ]
     },
     "execution_count": 28,
     "metadata": {},
     "output_type": "execute_result"
    }
   ],
   "source": [
    "data_num.head(5)"
   ]
  },
  {
   "cell_type": "code",
   "execution_count": 28,
   "metadata": {
    "ExecuteTime": {
     "end_time": "2021-02-01T12:32:09.851687Z",
     "start_time": "2021-02-01T12:32:09.809657Z"
    }
   },
   "outputs": [
    {
     "name": "stdout",
     "output_type": "stream",
     "text": [
      "<class 'pandas.core.frame.DataFrame'>\n",
      "RangeIndex: 1048575 entries, 0 to 1048574\n",
      "Data columns (total 7 columns):\n",
      " #   Column                                 Non-Null Count    Dtype  \n",
      "---  ------                                 --------------    -----  \n",
      " 0   Days_spend_hsptl                       1048575 non-null  int8   \n",
      " 1   ccs_diagnosis_code                     1048575 non-null  int64  \n",
      " 2   ccs_procedure_code                     1048575 non-null  int64  \n",
      " 3   Weight_baby                            1048575 non-null  int64  \n",
      " 4   Tot_charg                              1048575 non-null  float64\n",
      " 5   Tot_cost                               1048575 non-null  float64\n",
      " 6   ratio_of_total_costs_to_total_charges  1048575 non-null  float64\n",
      "dtypes: float64(3), int64(3), int8(1)\n",
      "memory usage: 49.0 MB\n"
     ]
    }
   ],
   "source": [
    "#top 3 features selected \n",
    "selected_num=['Days_spend_hsptl','Tot_charg','Tot_cost']\n",
    "data_num.info()"
   ]
  },
  {
   "cell_type": "code",
   "execution_count": 53,
   "metadata": {
    "ExecuteTime": {
     "end_time": "2021-02-01T12:54:51.859369Z",
     "start_time": "2021-02-01T12:54:51.618199Z"
    }
   },
   "outputs": [
    {
     "name": "stdout",
     "output_type": "stream",
     "text": [
      "<class 'pandas.core.frame.DataFrame'>\n",
      "RangeIndex: 1048575 entries, 0 to 1048574\n",
      "Data columns (total 49 columns):\n",
      " #   Column                                 Non-Null Count    Dtype\n",
      "---  ------                                 --------------    -----\n",
      " 0   Area_Service_Capital/Adirond           1048575 non-null  uint8\n",
      " 1   Area_Service_Central NY                1048575 non-null  uint8\n",
      " 2   Area_Service_Finger Lakes              1048575 non-null  uint8\n",
      " 3   Area_Service_Hudson Valley             1048575 non-null  uint8\n",
      " 4   Area_Service_New York City             1048575 non-null  uint8\n",
      " 5   Area_Service_Southern Tier             1048575 non-null  uint8\n",
      " 6   Area_Service_Western NY                1048575 non-null  uint8\n",
      " 7   Age_0 to 17                            1048575 non-null  uint8\n",
      " 8   Age_18 to 29                           1048575 non-null  uint8\n",
      " 9   Age_30 to 49                           1048575 non-null  uint8\n",
      " 10  Age_50 to 69                           1048575 non-null  uint8\n",
      " 11  Age_70 or Older                        1048575 non-null  uint8\n",
      " 12  Gender_F                               1048575 non-null  uint8\n",
      " 13  Gender_M                               1048575 non-null  uint8\n",
      " 14  Gender_U                               1048575 non-null  uint8\n",
      " 15  Cultural_group_Black/African American  1048575 non-null  uint8\n",
      " 16  Cultural_group_Other Race              1048575 non-null  uint8\n",
      " 17  Cultural_group_Unknown                 1048575 non-null  uint8\n",
      " 18  Cultural_group_White                   1048575 non-null  uint8\n",
      " 19  ethnicity_Not Span/Hispanic            1048575 non-null  uint8\n",
      " 20  ethnicity_Spanish/Hispanic             1048575 non-null  uint8\n",
      " 21  ethnicity_Unknown                      1048575 non-null  uint8\n",
      " 22  Admission_type_Elective                1048575 non-null  uint8\n",
      " 23  Admission_type_Emergency               1048575 non-null  uint8\n",
      " 24  Admission_type_Newborn                 1048575 non-null  uint8\n",
      " 25  Admission_type_Not Available           1048575 non-null  uint8\n",
      " 26  Admission_type_Trauma                  1048575 non-null  uint8\n",
      " 27  Admission_type_Urgent                  1048575 non-null  uint8\n",
      " 28  Code_illness_0                         1048575 non-null  uint8\n",
      " 29  Code_illness_1                         1048575 non-null  uint8\n",
      " 30  Code_illness_2                         1048575 non-null  uint8\n",
      " 31  Code_illness_3                         1048575 non-null  uint8\n",
      " 32  Code_illness_4                         1048575 non-null  uint8\n",
      " 33  Mortality risk_1.0                     1048575 non-null  uint8\n",
      " 34  Mortality risk_2.0                     1048575 non-null  uint8\n",
      " 35  Mortality risk_3.0                     1048575 non-null  uint8\n",
      " 36  Mortality risk_4.0                     1048575 non-null  uint8\n",
      " 37  Surg_Description_Medical               1048575 non-null  uint8\n",
      " 38  Surg_Description_Not Applicable        1048575 non-null  uint8\n",
      " 39  Surg_Description_Surgical              1048575 non-null  uint8\n",
      " 40  Abortion_N                             1048575 non-null  uint8\n",
      " 41  Abortion_Y                             1048575 non-null  uint8\n",
      " 42  Emergency dept_yes/No_N                1048575 non-null  uint8\n",
      " 43  Emergency dept_yes/No_Y                1048575 non-null  uint8\n",
      " 44  Payment_Typology_1                     1048575 non-null  uint8\n",
      " 45  Payment_Typology_2                     1048575 non-null  uint8\n",
      " 46  Payment_Typology_3                     1048575 non-null  uint8\n",
      " 47  Payment_Typology_4                     1048575 non-null  uint8\n",
      " 48  Payment_Typology_5                     1048575 non-null  uint8\n",
      "dtypes: uint8(49)\n",
      "memory usage: 49.0 MB\n"
     ]
    }
   ],
   "source": [
    "data_cat_df.iloc[:,1:50].info()"
   ]
  },
  {
   "cell_type": "code",
   "execution_count": 52,
   "metadata": {
    "ExecuteTime": {
     "end_time": "2021-02-01T12:54:27.250669Z",
     "start_time": "2021-02-01T12:54:24.339580Z"
    }
   },
   "outputs": [],
   "source": [
    "# feature selection for categorical input and categorical output\n",
    "from sklearn.feature_selection import SelectKBest\n",
    "from sklearn.feature_selection import chi2\n",
    "fs = SelectKBest(score_func=chi2, k='all')\n",
    "fs.fit(data_cat_df.iloc[:,1:50], data_cat_df['Result'])\n",
    "X_train_fs = fs.transform(data_cat_df.iloc[:,1:50])"
   ]
  },
  {
   "cell_type": "code",
   "execution_count": 54,
   "metadata": {
    "ExecuteTime": {
     "end_time": "2021-02-01T12:55:19.398449Z",
     "start_time": "2021-02-01T12:55:14.858223Z"
    }
   },
   "outputs": [
    {
     "name": "stdout",
     "output_type": "stream",
     "text": [
      " Area_Service_Capital/Adirond: 0.000227\n",
      " Area_Service_Central NY: 0.058359\n",
      " Area_Service_Finger Lakes: 0.000122\n",
      " Area_Service_Hudson Valley: 0.004921\n",
      " Area_Service_New York City: 0.020711\n",
      " Area_Service_Southern Tier: 0.054334\n",
      " Area_Service_Western NY: 0.113319\n",
      " Age_0 to 17: 0.170057\n",
      " Age_18 to 29: 0.172469\n",
      " Age_30 to 49: 0.760175\n",
      " Age_50 to 69: 0.266766\n",
      " Age_70 or Older: 0.433252\n",
      " Gender_F: 0.009920\n",
      " Gender_M: 0.015809\n",
      " Gender_U: 1.307450\n",
      " Cultural_group_Black/African American: 0.469846\n",
      " Cultural_group_Other Race: 1.917401\n",
      " Cultural_group_Unknown: 0.561625\n",
      " Cultural_group_White: 0.107327\n",
      " ethnicity_Not Span/Hispanic: 0.343546\n",
      " ethnicity_Spanish/Hispanic: 2.359753\n",
      " ethnicity_Unknown: 0.214848\n",
      " Admission_type_Elective: 0.723487\n",
      " Admission_type_Emergency: 0.970677\n",
      " Admission_type_Newborn: 0.037775\n",
      " Admission_type_Not Available: 0.047799\n",
      " Admission_type_Trauma: 0.005691\n",
      " Admission_type_Urgent: 1.635453\n",
      " Code_illness_0: 1.556323\n",
      " Code_illness_1: 0.000241\n",
      " Code_illness_2: 1.603691\n",
      " Code_illness_3: 2.687063\n",
      " Code_illness_4: 0.005915\n",
      " Mortality risk_1.0: 1.491543\n",
      " Mortality risk_2.0: 0.190341\n",
      " Mortality risk_3.0: 3.126159\n",
      " Mortality risk_4.0: 0.057488\n",
      " Surg_Description_Medical: 1.943548\n",
      " Surg_Description_Not Applicable: 1.556323\n",
      " Surg_Description_Surgical: 6.533142\n",
      " Abortion_N: 0.015810\n",
      " Abortion_Y: 11.300458\n",
      " Emergency dept_yes/No_N: 1.169580\n",
      " Emergency dept_yes/No_Y: 0.909213\n",
      " Payment_Typology_1: 0.678153\n",
      " Payment_Typology_2: 0.539380\n",
      " Payment_Typology_3: 0.001262\n",
      " Payment_Typology_4: 0.012968\n",
      " Payment_Typology_5: 1.635153\n"
     ]
    }
   ],
   "source": [
    "for i in range(len(fs.scores_)):\n",
    "    print(' %s: %f' % (data_cat_df.iloc[:,1:50].columns[i],fs.scores_[i]))"
   ]
  },
  {
   "cell_type": "code",
   "execution_count": 31,
   "metadata": {
    "ExecuteTime": {
     "end_time": "2021-02-01T12:40:59.129023Z",
     "start_time": "2021-02-01T12:40:58.212371Z"
    },
    "scrolled": true
   },
   "outputs": [
    {
     "data": {
      "text/plain": [
       "<matplotlib.axes._subplots.AxesSubplot at 0xa680cd2348>"
      ]
     },
     "execution_count": 31,
     "metadata": {},
     "output_type": "execute_result"
    },
    {
     "data": {
      "image/png": "[encoded data removed]",
      "text/plain": [
       "<Figure size 1080x1080 with 1 Axes>"
      ]
     },
     "metadata": {
      "needs_background": "light"
     },
     "output_type": "display_data"
    }
   ],
   "source": [
    "fig,ax=plt.subplots(figsize=(15,15))\n",
    "sns.barplot([i for i in range(len(fs.scores_))],fs.scores_,ax=ax)"
   ]
  },
  {
   "cell_type": "code",
   "execution_count": 55,
   "metadata": {
    "ExecuteTime": {
     "end_time": "2021-02-01T12:55:39.668890Z",
     "start_time": "2021-02-01T12:55:39.658883Z"
    }
   },
   "outputs": [],
   "source": [
    "df = pd.DataFrame(columns = ['cat_columnname','chi2_score'])"
   ]
  },
  {
   "cell_type": "code",
   "execution_count": 57,
   "metadata": {
    "ExecuteTime": {
     "end_time": "2021-02-01T12:56:32.432657Z",
     "start_time": "2021-02-01T12:56:32.427655Z"
    }
   },
   "outputs": [
    {
     "data": {
      "text/plain": [
       "0"
      ]
     },
     "execution_count": 57,
     "metadata": {},
     "output_type": "execute_result"
    }
   ],
   "source": [
    "len(df.index)"
   ]
  },
  {
   "cell_type": "code",
   "execution_count": 58,
   "metadata": {
    "ExecuteTime": {
     "end_time": "2021-02-01T12:59:28.836044Z",
     "start_time": "2021-02-01T12:59:24.233718Z"
    }
   },
   "outputs": [],
   "source": [
    "for i in range(len(fs.scores_)):\n",
    "    df.loc[len(df.index)] = [data_cat_df.iloc[:,1:50].columns[i],fs.scores_[i]]"
   ]
  },
  {
   "cell_type": "code",
   "execution_count": 59,
   "metadata": {
    "ExecuteTime": {
     "end_time": "2021-02-01T12:59:30.165935Z",
     "start_time": "2021-02-01T12:59:30.145920Z"
    },
    "scrolled": true
   },
   "outputs": [
    {
     "data": {
      "text/html": [
       "<div>\n",
       "<style scoped>\n",
       "    .dataframe tbody tr th:only-of-type {\n",
       "        vertical-align: middle;\n",
       "    }\n",
       "\n",
       "    .dataframe tbody tr th {\n",
       "        vertical-align: top;\n",
       "    }\n",
       "\n",
       "    .dataframe thead th {\n",
       "        text-align: right;\n",
       "    }\n",
       "</style>\n",
       "<table border=\"1\" class=\"dataframe\">\n",
       "  <thead>\n",
       "    <tr style=\"text-align: right;\">\n",
       "      <th></th>\n",
       "      <th>cat_columnname</th>\n",
       "      <th>chi2_score</th>\n",
       "    </tr>\n",
       "  </thead>\n",
       "  <tbody>\n",
       "    <tr>\n",
       "      <th>0</th>\n",
       "      <td>Area_Service_Capital/Adirond</td>\n",
       "      <td>0.000227</td>\n",
       "    </tr>\n",
       "    <tr>\n",
       "      <th>1</th>\n",
       "      <td>Area_Service_Central NY</td>\n",
       "      <td>0.058359</td>\n",
       "    </tr>\n",
       "    <tr>\n",
       "      <th>2</th>\n",
       "      <td>Area_Service_Finger Lakes</td>\n",
       "      <td>0.000122</td>\n",
       "    </tr>\n",
       "    <tr>\n",
       "      <th>3</th>\n",
       "      <td>Area_Service_Hudson Valley</td>\n",
       "      <td>0.004921</td>\n",
       "    </tr>\n",
       "    <tr>\n",
       "      <th>4</th>\n",
       "      <td>Area_Service_New York City</td>\n",
       "      <td>0.020711</td>\n",
       "    </tr>\n",
       "    <tr>\n",
       "      <th>5</th>\n",
       "      <td>Area_Service_Southern Tier</td>\n",
       "      <td>0.054334</td>\n",
       "    </tr>\n",
       "    <tr>\n",
       "      <th>6</th>\n",
       "      <td>Area_Service_Western NY</td>\n",
       "      <td>0.113319</td>\n",
       "    </tr>\n",
       "    <tr>\n",
       "      <th>7</th>\n",
       "      <td>Age_0 to 17</td>\n",
       "      <td>0.170057</td>\n",
       "    </tr>\n",
       "    <tr>\n",
       "      <th>8</th>\n",
       "      <td>Age_18 to 29</td>\n",
       "      <td>0.172469</td>\n",
       "    </tr>\n",
       "    <tr>\n",
       "      <th>9</th>\n",
       "      <td>Age_30 to 49</td>\n",
       "      <td>0.760175</td>\n",
       "    </tr>\n",
       "    <tr>\n",
       "      <th>10</th>\n",
       "      <td>Age_50 to 69</td>\n",
       "      <td>0.266766</td>\n",
       "    </tr>\n",
       "    <tr>\n",
       "      <th>11</th>\n",
       "      <td>Age_70 or Older</td>\n",
       "      <td>0.433252</td>\n",
       "    </tr>\n",
       "    <tr>\n",
       "      <th>12</th>\n",
       "      <td>Gender_F</td>\n",
       "      <td>0.009920</td>\n",
       "    </tr>\n",
       "    <tr>\n",
       "      <th>13</th>\n",
       "      <td>Gender_M</td>\n",
       "      <td>0.015809</td>\n",
       "    </tr>\n",
       "    <tr>\n",
       "      <th>14</th>\n",
       "      <td>Gender_U</td>\n",
       "      <td>1.307450</td>\n",
       "    </tr>\n",
       "    <tr>\n",
       "      <th>15</th>\n",
       "      <td>Cultural_group_Black/African American</td>\n",
       "      <td>0.469846</td>\n",
       "    </tr>\n",
       "    <tr>\n",
       "      <th>16</th>\n",
       "      <td>Cultural_group_Other Race</td>\n",
       "      <td>1.917401</td>\n",
       "    </tr>\n",
       "    <tr>\n",
       "      <th>17</th>\n",
       "      <td>Cultural_group_Unknown</td>\n",
       "      <td>0.561625</td>\n",
       "    </tr>\n",
       "    <tr>\n",
       "      <th>18</th>\n",
       "      <td>Cultural_group_White</td>\n",
       "      <td>0.107327</td>\n",
       "    </tr>\n",
       "    <tr>\n",
       "      <th>19</th>\n",
       "      <td>ethnicity_Not Span/Hispanic</td>\n",
       "      <td>0.343546</td>\n",
       "    </tr>\n",
       "    <tr>\n",
       "      <th>20</th>\n",
       "      <td>ethnicity_Spanish/Hispanic</td>\n",
       "      <td>2.359753</td>\n",
       "    </tr>\n",
       "    <tr>\n",
       "      <th>21</th>\n",
       "      <td>ethnicity_Unknown</td>\n",
       "      <td>0.214848</td>\n",
       "    </tr>\n",
       "    <tr>\n",
       "      <th>22</th>\n",
       "      <td>Admission_type_Elective</td>\n",
       "      <td>0.723487</td>\n",
       "    </tr>\n",
       "    <tr>\n",
       "      <th>23</th>\n",
       "      <td>Admission_type_Emergency</td>\n",
       "      <td>0.970677</td>\n",
       "    </tr>\n",
       "    <tr>\n",
       "      <th>24</th>\n",
       "      <td>Admission_type_Newborn</td>\n",
       "      <td>0.037775</td>\n",
       "    </tr>\n",
       "    <tr>\n",
       "      <th>25</th>\n",
       "      <td>Admission_type_Not Available</td>\n",
       "      <td>0.047799</td>\n",
       "    </tr>\n",
       "    <tr>\n",
       "      <th>26</th>\n",
       "      <td>Admission_type_Trauma</td>\n",
       "      <td>0.005691</td>\n",
       "    </tr>\n",
       "    <tr>\n",
       "      <th>27</th>\n",
       "      <td>Admission_type_Urgent</td>\n",
       "      <td>1.635453</td>\n",
       "    </tr>\n",
       "    <tr>\n",
       "      <th>28</th>\n",
       "      <td>Code_illness_0</td>\n",
       "      <td>1.556323</td>\n",
       "    </tr>\n",
       "    <tr>\n",
       "      <th>29</th>\n",
       "      <td>Code_illness_1</td>\n",
       "      <td>0.000241</td>\n",
       "    </tr>\n",
       "    <tr>\n",
       "      <th>30</th>\n",
       "      <td>Code_illness_2</td>\n",
       "      <td>1.603691</td>\n",
       "    </tr>\n",
       "    <tr>\n",
       "      <th>31</th>\n",
       "      <td>Code_illness_3</td>\n",
       "      <td>2.687063</td>\n",
       "    </tr>\n",
       "    <tr>\n",
       "      <th>32</th>\n",
       "      <td>Code_illness_4</td>\n",
       "      <td>0.005915</td>\n",
       "    </tr>\n",
       "    <tr>\n",
       "      <th>33</th>\n",
       "      <td>Mortality risk_1.0</td>\n",
       "      <td>1.491543</td>\n",
       "    </tr>\n",
       "    <tr>\n",
       "      <th>34</th>\n",
       "      <td>Mortality risk_2.0</td>\n",
       "      <td>0.190341</td>\n",
       "    </tr>\n",
       "    <tr>\n",
       "      <th>35</th>\n",
       "      <td>Mortality risk_3.0</td>\n",
       "      <td>3.126159</td>\n",
       "    </tr>\n",
       "    <tr>\n",
       "      <th>36</th>\n",
       "      <td>Mortality risk_4.0</td>\n",
       "      <td>0.057488</td>\n",
       "    </tr>\n",
       "    <tr>\n",
       "      <th>37</th>\n",
       "      <td>Surg_Description_Medical</td>\n",
       "      <td>1.943548</td>\n",
       "    </tr>\n",
       "    <tr>\n",
       "      <th>38</th>\n",
       "      <td>Surg_Description_Not Applicable</td>\n",
       "      <td>1.556323</td>\n",
       "    </tr>\n",
       "    <tr>\n",
       "      <th>39</th>\n",
       "      <td>Surg_Description_Surgical</td>\n",
       "      <td>6.533142</td>\n",
       "    </tr>\n",
       "    <tr>\n",
       "      <th>40</th>\n",
       "      <td>Abortion_N</td>\n",
       "      <td>0.015810</td>\n",
       "    </tr>\n",
       "    <tr>\n",
       "      <th>41</th>\n",
       "      <td>Abortion_Y</td>\n",
       "      <td>11.300458</td>\n",
       "    </tr>\n",
       "    <tr>\n",
       "      <th>42</th>\n",
       "      <td>Emergency dept_yes/No_N</td>\n",
       "      <td>1.169580</td>\n",
       "    </tr>\n",
       "    <tr>\n",
       "      <th>43</th>\n",
       "      <td>Emergency dept_yes/No_Y</td>\n",
       "      <td>0.909213</td>\n",
       "    </tr>\n",
       "    <tr>\n",
       "      <th>44</th>\n",
       "      <td>Payment_Typology_1</td>\n",
       "      <td>0.678153</td>\n",
       "    </tr>\n",
       "    <tr>\n",
       "      <th>45</th>\n",
       "      <td>Payment_Typology_2</td>\n",
       "      <td>0.539380</td>\n",
       "    </tr>\n",
       "    <tr>\n",
       "      <th>46</th>\n",
       "      <td>Payment_Typology_3</td>\n",
       "      <td>0.001262</td>\n",
       "    </tr>\n",
       "    <tr>\n",
       "      <th>47</th>\n",
       "      <td>Payment_Typology_4</td>\n",
       "      <td>0.012968</td>\n",
       "    </tr>\n",
       "    <tr>\n",
       "      <th>48</th>\n",
       "      <td>Payment_Typology_5</td>\n",
       "      <td>1.635153</td>\n",
       "    </tr>\n",
       "  </tbody>\n",
       "</table>\n",
       "</div>"
      ],
      "text/plain": [
       "                           cat_columnname  chi2_score\n",
       "0            Area_Service_Capital/Adirond    0.000227\n",
       "1                 Area_Service_Central NY    0.058359\n",
       "2               Area_Service_Finger Lakes    0.000122\n",
       "3              Area_Service_Hudson Valley    0.004921\n",
       "4              Area_Service_New York City    0.020711\n",
       "5              Area_Service_Southern Tier    0.054334\n",
       "6                 Area_Service_Western NY    0.113319\n",
       "7                             Age_0 to 17    0.170057\n",
       "8                            Age_18 to 29    0.172469\n",
       "9                            Age_30 to 49    0.760175\n",
       "10                           Age_50 to 69    0.266766\n",
       "11                        Age_70 or Older    0.433252\n",
       "12                               Gender_F    0.009920\n",
       "13                               Gender_M    0.015809\n",
       "14                               Gender_U    1.307450\n",
       "15  Cultural_group_Black/African American    0.469846\n",
       "16              Cultural_group_Other Race    1.917401\n",
       "17                 Cultural_group_Unknown    0.561625\n",
       "18                   Cultural_group_White    0.107327\n",
       "19            ethnicity_Not Span/Hispanic    0.343546\n",
       "20             ethnicity_Spanish/Hispanic    2.359753\n",
       "21                      ethnicity_Unknown    0.214848\n",
       "22                Admission_type_Elective    0.723487\n",
       "23               Admission_type_Emergency    0.970677\n",
       "24                 Admission_type_Newborn    0.037775\n",
       "25           Admission_type_Not Available    0.047799\n",
       "26                  Admission_type_Trauma    0.005691\n",
       "27                  Admission_type_Urgent    1.635453\n",
       "28                         Code_illness_0    1.556323\n",
       "29                         Code_illness_1    0.000241\n",
       "30                         Code_illness_2    1.603691\n",
       "31                         Code_illness_3    2.687063\n",
       "32                         Code_illness_4    0.005915\n",
       "33                     Mortality risk_1.0    1.491543\n",
       "34                     Mortality risk_2.0    0.190341\n",
       "35                     Mortality risk_3.0    3.126159\n",
       "36                     Mortality risk_4.0    0.057488\n",
       "37               Surg_Description_Medical    1.943548\n",
       "38        Surg_Description_Not Applicable    1.556323\n",
       "39              Surg_Description_Surgical    6.533142\n",
       "40                             Abortion_N    0.015810\n",
       "41                             Abortion_Y   11.300458\n",
       "42                Emergency dept_yes/No_N    1.169580\n",
       "43                Emergency dept_yes/No_Y    0.909213\n",
       "44                     Payment_Typology_1    0.678153\n",
       "45                     Payment_Typology_2    0.539380\n",
       "46                     Payment_Typology_3    0.001262\n",
       "47                     Payment_Typology_4    0.012968\n",
       "48                     Payment_Typology_5    1.635153"
      ]
     },
     "execution_count": 59,
     "metadata": {},
     "output_type": "execute_result"
    }
   ],
   "source": [
    "df"
   ]
  },
  {
   "cell_type": "code",
   "execution_count": 35,
   "metadata": {
    "ExecuteTime": {
     "end_time": "2021-01-31T19:26:27.657660Z",
     "start_time": "2021-01-31T19:26:27.651659Z"
    }
   },
   "outputs": [
    {
     "data": {
      "text/plain": [
       "49"
      ]
     },
     "execution_count": 35,
     "metadata": {},
     "output_type": "execute_result"
    }
   ],
   "source": [
    "len(df.index)"
   ]
  },
  {
   "cell_type": "code",
   "execution_count": 60,
   "metadata": {
    "ExecuteTime": {
     "end_time": "2021-02-01T12:59:40.706776Z",
     "start_time": "2021-02-01T12:59:40.698772Z"
    }
   },
   "outputs": [
    {
     "data": {
      "text/plain": [
       "['Age_30 to 49',\n",
       " 'Gender_U',\n",
       " 'Cultural_group_Other Race',\n",
       " 'Cultural_group_Unknown',\n",
       " 'ethnicity_Spanish/Hispanic',\n",
       " 'Admission_type_Elective',\n",
       " 'Admission_type_Emergency',\n",
       " 'Admission_type_Urgent',\n",
       " 'Code_illness_0',\n",
       " 'Code_illness_2',\n",
       " 'Code_illness_3',\n",
       " 'Mortality risk_1.0',\n",
       " 'Mortality risk_3.0',\n",
       " 'Surg_Description_Medical',\n",
       " 'Surg_Description_Not Applicable',\n",
       " 'Surg_Description_Surgical',\n",
       " 'Abortion_Y',\n",
       " 'Emergency dept_yes/No_N',\n",
       " 'Emergency dept_yes/No_Y',\n",
       " 'Payment_Typology_1',\n",
       " 'Payment_Typology_2',\n",
       " 'Payment_Typology_5']"
      ]
     },
     "execution_count": 60,
     "metadata": {},
     "output_type": "execute_result"
    }
   ],
   "source": [
    "#selecting columns with ch2 values greater than 0.5\n",
    "selected_categorical=[]\n",
    "for i in range(0,len(df.index)):\n",
    "     if df.iloc[i,1]>0.5:\n",
    "        selected_categorical.append(df.iloc[i,0])\n",
    "selected_categorical"
   ]
  },
  {
   "cell_type": "code",
   "execution_count": 61,
   "metadata": {
    "ExecuteTime": {
     "end_time": "2021-02-01T13:00:21.386476Z",
     "start_time": "2021-02-01T13:00:21.306405Z"
    }
   },
   "outputs": [],
   "source": [
    "#Adding selected_num and selected_categorical to form new dataset\n",
    "selected_categorical.append('Result')\n",
    "selected_features_1=selected_num+selected_categorical\n",
    "data_featureselected_1= data_final[selected_features_1]\n"
   ]
  },
  {
   "cell_type": "code",
   "execution_count": 62,
   "metadata": {
    "ExecuteTime": {
     "end_time": "2021-02-01T13:00:23.038655Z",
     "start_time": "2021-02-01T13:00:22.922554Z"
    }
   },
   "outputs": [
    {
     "name": "stdout",
     "output_type": "stream",
     "text": [
      "<class 'pandas.core.frame.DataFrame'>\n",
      "RangeIndex: 1048575 entries, 0 to 1048574\n",
      "Data columns (total 26 columns):\n",
      " #   Column                           Non-Null Count    Dtype  \n",
      "---  ------                           --------------    -----  \n",
      " 0   Days_spend_hsptl                 1048575 non-null  int8   \n",
      " 1   Tot_charg                        1048575 non-null  float64\n",
      " 2   Tot_cost                         1048575 non-null  float64\n",
      " 3   Age_30 to 49                     1048575 non-null  uint8  \n",
      " 4   Gender_U                         1048575 non-null  uint8  \n",
      " 5   Cultural_group_Other Race        1048575 non-null  uint8  \n",
      " 6   Cultural_group_Unknown           1048575 non-null  uint8  \n",
      " 7   ethnicity_Spanish/Hispanic       1048575 non-null  uint8  \n",
      " 8   Admission_type_Elective          1048575 non-null  uint8  \n",
      " 9   Admission_type_Emergency         1048575 non-null  uint8  \n",
      " 10  Admission_type_Urgent            1048575 non-null  uint8  \n",
      " 11  Code_illness_0                   1048575 non-null  uint8  \n",
      " 12  Code_illness_2                   1048575 non-null  uint8  \n",
      " 13  Code_illness_3                   1048575 non-null  uint8  \n",
      " 14  Mortality risk_1.0               1048575 non-null  uint8  \n",
      " 15  Mortality risk_3.0               1048575 non-null  uint8  \n",
      " 16  Surg_Description_Medical         1048575 non-null  uint8  \n",
      " 17  Surg_Description_Not Applicable  1048575 non-null  uint8  \n",
      " 18  Surg_Description_Surgical        1048575 non-null  uint8  \n",
      " 19  Abortion_Y                       1048575 non-null  uint8  \n",
      " 20  Emergency dept_yes/No_N          1048575 non-null  uint8  \n",
      " 21  Emergency dept_yes/No_Y          1048575 non-null  uint8  \n",
      " 22  Payment_Typology_1               1048575 non-null  uint8  \n",
      " 23  Payment_Typology_2               1048575 non-null  uint8  \n",
      " 24  Payment_Typology_5               1048575 non-null  uint8  \n",
      " 25  Result                           1048575 non-null  int64  \n",
      "dtypes: float64(2), int64(1), int8(1), uint8(22)\n",
      "memory usage: 47.0 MB\n"
     ]
    }
   ],
   "source": [
    "data_featureselected_1.info()"
   ]
  },
  {
   "cell_type": "code",
   "execution_count": null,
   "metadata": {},
   "outputs": [],
   "source": [
    "################# Recursive Feature Elimination #########################\n",
    "#This will take 25mins can skip with next line where I selected features from below output "
   ]
  },
  {
   "cell_type": "code",
   "execution_count": 111,
   "metadata": {
    "ExecuteTime": {
     "end_time": "2021-02-01T20:25:35.042375Z",
     "start_time": "2021-02-01T20:25:34.889247Z"
    }
   },
   "outputs": [],
   "source": [
    "mid = data_final['Result']\n",
    "data_final.drop(labels=['Result'], axis=1, inplace = True)\n"
   ]
  },
  {
   "cell_type": "code",
   "execution_count": 114,
   "metadata": {
    "ExecuteTime": {
     "end_time": "2021-02-01T20:27:42.813395Z",
     "start_time": "2021-02-01T20:27:42.154661Z"
    }
   },
   "outputs": [
    {
     "name": "stdout",
     "output_type": "stream",
     "text": [
      "<class 'pandas.core.frame.DataFrame'>\n",
      "RangeIndex: 1048575 entries, 0 to 1048574\n",
      "Data columns (total 56 columns):\n",
      " #   Column                                 Non-Null Count    Dtype  \n",
      "---  ------                                 --------------    -----  \n",
      " 0   Days_spend_hsptl                       1048575 non-null  int8   \n",
      " 1   ccs_diagnosis_code                     1048575 non-null  int64  \n",
      " 2   ccs_procedure_code                     1048575 non-null  int64  \n",
      " 3   Weight_baby                            1048575 non-null  int64  \n",
      " 4   Tot_charg                              1048575 non-null  float64\n",
      " 5   Tot_cost                               1048575 non-null  float64\n",
      " 6   ratio_of_total_costs_to_total_charges  1048575 non-null  float64\n",
      " 7   Area_Service_Capital/Adirond           1048575 non-null  uint8  \n",
      " 8   Area_Service_Central NY                1048575 non-null  uint8  \n",
      " 9   Area_Service_Finger Lakes              1048575 non-null  uint8  \n",
      " 10  Area_Service_Hudson Valley             1048575 non-null  uint8  \n",
      " 11  Area_Service_New York City             1048575 non-null  uint8  \n",
      " 12  Area_Service_Southern Tier             1048575 non-null  uint8  \n",
      " 13  Area_Service_Western NY                1048575 non-null  uint8  \n",
      " 14  Age_0 to 17                            1048575 non-null  uint8  \n",
      " 15  Age_18 to 29                           1048575 non-null  uint8  \n",
      " 16  Age_30 to 49                           1048575 non-null  uint8  \n",
      " 17  Age_50 to 69                           1048575 non-null  uint8  \n",
      " 18  Age_70 or Older                        1048575 non-null  uint8  \n",
      " 19  Gender_F                               1048575 non-null  uint8  \n",
      " 20  Gender_M                               1048575 non-null  uint8  \n",
      " 21  Gender_U                               1048575 non-null  uint8  \n",
      " 22  Cultural_group_Black/African American  1048575 non-null  uint8  \n",
      " 23  Cultural_group_Other Race              1048575 non-null  uint8  \n",
      " 24  Cultural_group_Unknown                 1048575 non-null  uint8  \n",
      " 25  Cultural_group_White                   1048575 non-null  uint8  \n",
      " 26  ethnicity_Not Span/Hispanic            1048575 non-null  uint8  \n",
      " 27  ethnicity_Spanish/Hispanic             1048575 non-null  uint8  \n",
      " 28  ethnicity_Unknown                      1048575 non-null  uint8  \n",
      " 29  Admission_type_Elective                1048575 non-null  uint8  \n",
      " 30  Admission_type_Emergency               1048575 non-null  uint8  \n",
      " 31  Admission_type_Newborn                 1048575 non-null  uint8  \n",
      " 32  Admission_type_Not Available           1048575 non-null  uint8  \n",
      " 33  Admission_type_Trauma                  1048575 non-null  uint8  \n",
      " 34  Admission_type_Urgent                  1048575 non-null  uint8  \n",
      " 35  Code_illness_0                         1048575 non-null  uint8  \n",
      " 36  Code_illness_1                         1048575 non-null  uint8  \n",
      " 37  Code_illness_2                         1048575 non-null  uint8  \n",
      " 38  Code_illness_3                         1048575 non-null  uint8  \n",
      " 39  Code_illness_4                         1048575 non-null  uint8  \n",
      " 40  Mortality risk_1.0                     1048575 non-null  uint8  \n",
      " 41  Mortality risk_2.0                     1048575 non-null  uint8  \n",
      " 42  Mortality risk_3.0                     1048575 non-null  uint8  \n",
      " 43  Mortality risk_4.0                     1048575 non-null  uint8  \n",
      " 44  Surg_Description_Medical               1048575 non-null  uint8  \n",
      " 45  Surg_Description_Not Applicable        1048575 non-null  uint8  \n",
      " 46  Surg_Description_Surgical              1048575 non-null  uint8  \n",
      " 47  Abortion_N                             1048575 non-null  uint8  \n",
      " 48  Abortion_Y                             1048575 non-null  uint8  \n",
      " 49  Emergency dept_yes/No_N                1048575 non-null  uint8  \n",
      " 50  Emergency dept_yes/No_Y                1048575 non-null  uint8  \n",
      " 51  Payment_Typology_1                     1048575 non-null  uint8  \n",
      " 52  Payment_Typology_2                     1048575 non-null  uint8  \n",
      " 53  Payment_Typology_3                     1048575 non-null  uint8  \n",
      " 54  Payment_Typology_4                     1048575 non-null  uint8  \n",
      " 55  Payment_Typology_5                     1048575 non-null  uint8  \n",
      "dtypes: float64(3), int64(3), int8(1), uint8(49)\n",
      "memory usage: 98.0 MB\n",
      "<class 'pandas.core.frame.DataFrame'>\n",
      "RangeIndex: 1048575 entries, 0 to 1048574\n",
      "Data columns (total 57 columns):\n",
      " #   Column                                 Non-Null Count    Dtype  \n",
      "---  ------                                 --------------    -----  \n",
      " 0   Days_spend_hsptl                       1048575 non-null  int8   \n",
      " 1   ccs_diagnosis_code                     1048575 non-null  int64  \n",
      " 2   ccs_procedure_code                     1048575 non-null  int64  \n",
      " 3   Weight_baby                            1048575 non-null  int64  \n",
      " 4   Tot_charg                              1048575 non-null  float64\n",
      " 5   Tot_cost                               1048575 non-null  float64\n",
      " 6   ratio_of_total_costs_to_total_charges  1048575 non-null  float64\n",
      " 7   Area_Service_Capital/Adirond           1048575 non-null  uint8  \n",
      " 8   Area_Service_Central NY                1048575 non-null  uint8  \n",
      " 9   Area_Service_Finger Lakes              1048575 non-null  uint8  \n",
      " 10  Area_Service_Hudson Valley             1048575 non-null  uint8  \n",
      " 11  Area_Service_New York City             1048575 non-null  uint8  \n",
      " 12  Area_Service_Southern Tier             1048575 non-null  uint8  \n",
      " 13  Area_Service_Western NY                1048575 non-null  uint8  \n",
      " 14  Age_0 to 17                            1048575 non-null  uint8  \n",
      " 15  Age_18 to 29                           1048575 non-null  uint8  \n",
      " 16  Age_30 to 49                           1048575 non-null  uint8  \n",
      " 17  Age_50 to 69                           1048575 non-null  uint8  \n",
      " 18  Age_70 or Older                        1048575 non-null  uint8  \n",
      " 19  Gender_F                               1048575 non-null  uint8  \n",
      " 20  Gender_M                               1048575 non-null  uint8  \n",
      " 21  Gender_U                               1048575 non-null  uint8  \n",
      " 22  Cultural_group_Black/African American  1048575 non-null  uint8  \n",
      " 23  Cultural_group_Other Race              1048575 non-null  uint8  \n",
      " 24  Cultural_group_Unknown                 1048575 non-null  uint8  \n",
      " 25  Cultural_group_White                   1048575 non-null  uint8  \n",
      " 26  ethnicity_Not Span/Hispanic            1048575 non-null  uint8  \n",
      " 27  ethnicity_Spanish/Hispanic             1048575 non-null  uint8  \n",
      " 28  ethnicity_Unknown                      1048575 non-null  uint8  \n",
      " 29  Admission_type_Elective                1048575 non-null  uint8  \n",
      " 30  Admission_type_Emergency               1048575 non-null  uint8  \n",
      " 31  Admission_type_Newborn                 1048575 non-null  uint8  \n",
      " 32  Admission_type_Not Available           1048575 non-null  uint8  \n",
      " 33  Admission_type_Trauma                  1048575 non-null  uint8  \n",
      " 34  Admission_type_Urgent                  1048575 non-null  uint8  \n",
      " 35  Code_illness_0                         1048575 non-null  uint8  \n",
      " 36  Code_illness_1                         1048575 non-null  uint8  \n",
      " 37  Code_illness_2                         1048575 non-null  uint8  \n",
      " 38  Code_illness_3                         1048575 non-null  uint8  \n",
      " 39  Code_illness_4                         1048575 non-null  uint8  \n",
      " 40  Mortality risk_1.0                     1048575 non-null  uint8  \n",
      " 41  Mortality risk_2.0                     1048575 non-null  uint8  \n",
      " 42  Mortality risk_3.0                     1048575 non-null  uint8  \n",
      " 43  Mortality risk_4.0                     1048575 non-null  uint8  \n",
      " 44  Surg_Description_Medical               1048575 non-null  uint8  \n",
      " 45  Surg_Description_Not Applicable        1048575 non-null  uint8  \n",
      " 46  Surg_Description_Surgical              1048575 non-null  uint8  \n",
      " 47  Abortion_N                             1048575 non-null  uint8  \n",
      " 48  Abortion_Y                             1048575 non-null  uint8  \n",
      " 49  Emergency dept_yes/No_N                1048575 non-null  uint8  \n",
      " 50  Emergency dept_yes/No_Y                1048575 non-null  uint8  \n",
      " 51  Payment_Typology_1                     1048575 non-null  uint8  \n",
      " 52  Payment_Typology_2                     1048575 non-null  uint8  \n",
      " 53  Payment_Typology_3                     1048575 non-null  uint8  \n",
      " 54  Payment_Typology_4                     1048575 non-null  uint8  \n",
      " 55  Payment_Typology_5                     1048575 non-null  uint8  \n",
      " 56  Result                                 1048575 non-null  int64  \n",
      "dtypes: float64(3), int64(4), int8(1), uint8(49)\n",
      "memory usage: 106.0 MB\n"
     ]
    }
   ],
   "source": [
    "data_final.info()\n",
    "data_final.insert(56, 'Result', mid)\n",
    "data_final.info()"
   ]
  },
  {
   "cell_type": "code",
   "execution_count": 115,
   "metadata": {
    "ExecuteTime": {
     "end_time": "2021-02-01T20:52:53.592177Z",
     "start_time": "2021-02-01T20:28:15.457344Z"
    }
   },
   "outputs": [
    {
     "name": "stdout",
     "output_type": "stream",
     "text": [
      "[ True  True  True  True  True  True  True  True  True  True  True False\n",
      "  True  True  True  True  True  True  True  True  True False  True  True\n",
      " False  True  True  True  True  True  True False False False  True False\n",
      "  True  True  True False  True  True  True False False False False False\n",
      " False  True  True  True  True  True False False]\n",
      "[ 1  1  1  1  1  1  1  1  1  1  1  4  1  1  1  1  1  1  1  1  1 13  1  1\n",
      "  6  1  1  1  1  1  1  8 11 10  1 16  1  1  1  3  1  1  1  2  7 14  9 17\n",
      " 15  1  1  1  1  1  5 12]\n"
     ]
    }
   ],
   "source": [
    "#Feature selection with Recursive Feature Elimination\n",
    "from sklearn.tree import  DecisionTreeClassifier\n",
    "from sklearn.feature_selection import RFE\n",
    "dt = DecisionTreeClassifier()\n",
    "# create the RFE model for the svm classifier \n",
    "# and select attributes\n",
    "rfe = RFE(dt,n_features_to_select=40)\n",
    "rfe = rfe.fit(data_final.iloc[:,0:56], data_final['Result'])\n",
    "# print summaries for the selection of attributes\n",
    "print(rfe.support_)\n",
    "print(rfe.ranking_)"
   ]
  },
  {
   "cell_type": "code",
   "execution_count": 116,
   "metadata": {
    "ExecuteTime": {
     "end_time": "2021-02-01T20:54:03.159614Z",
     "start_time": "2021-02-01T20:54:03.107576Z"
    }
   },
   "outputs": [],
   "source": [
    "df1 = pd.DataFrame(columns = ['Columnname','Rank'])"
   ]
  },
  {
   "cell_type": "code",
   "execution_count": 117,
   "metadata": {
    "ExecuteTime": {
     "end_time": "2021-02-01T20:54:06.404246Z",
     "start_time": "2021-02-01T20:54:06.168742Z"
    }
   },
   "outputs": [],
   "source": [
    "for i in range(len(rfe.ranking_)):\n",
    "    df1.loc[len(df1.index)] = [data_final.columns[i],rfe.ranking_[i]]  "
   ]
  },
  {
   "cell_type": "code",
   "execution_count": 118,
   "metadata": {
    "ExecuteTime": {
     "end_time": "2021-02-01T20:54:09.277760Z",
     "start_time": "2021-02-01T20:54:09.257708Z"
    }
   },
   "outputs": [
    {
     "data": {
      "text/html": [
       "<div>\n",
       "<style scoped>\n",
       "    .dataframe tbody tr th:only-of-type {\n",
       "        vertical-align: middle;\n",
       "    }\n",
       "\n",
       "    .dataframe tbody tr th {\n",
       "        vertical-align: top;\n",
       "    }\n",
       "\n",
       "    .dataframe thead th {\n",
       "        text-align: right;\n",
       "    }\n",
       "</style>\n",
       "<table border=\"1\" class=\"dataframe\">\n",
       "  <thead>\n",
       "    <tr style=\"text-align: right;\">\n",
       "      <th></th>\n",
       "      <th>Columnname</th>\n",
       "      <th>Rank</th>\n",
       "    </tr>\n",
       "  </thead>\n",
       "  <tbody>\n",
       "    <tr>\n",
       "      <th>0</th>\n",
       "      <td>Days_spend_hsptl</td>\n",
       "      <td>1</td>\n",
       "    </tr>\n",
       "    <tr>\n",
       "      <th>1</th>\n",
       "      <td>ccs_diagnosis_code</td>\n",
       "      <td>1</td>\n",
       "    </tr>\n",
       "    <tr>\n",
       "      <th>2</th>\n",
       "      <td>ccs_procedure_code</td>\n",
       "      <td>1</td>\n",
       "    </tr>\n",
       "    <tr>\n",
       "      <th>3</th>\n",
       "      <td>Weight_baby</td>\n",
       "      <td>1</td>\n",
       "    </tr>\n",
       "    <tr>\n",
       "      <th>4</th>\n",
       "      <td>Tot_charg</td>\n",
       "      <td>1</td>\n",
       "    </tr>\n",
       "    <tr>\n",
       "      <th>5</th>\n",
       "      <td>Tot_cost</td>\n",
       "      <td>1</td>\n",
       "    </tr>\n",
       "    <tr>\n",
       "      <th>6</th>\n",
       "      <td>ratio_of_total_costs_to_total_charges</td>\n",
       "      <td>1</td>\n",
       "    </tr>\n",
       "    <tr>\n",
       "      <th>7</th>\n",
       "      <td>Area_Service_Capital/Adirond</td>\n",
       "      <td>1</td>\n",
       "    </tr>\n",
       "    <tr>\n",
       "      <th>8</th>\n",
       "      <td>Area_Service_Central NY</td>\n",
       "      <td>1</td>\n",
       "    </tr>\n",
       "    <tr>\n",
       "      <th>9</th>\n",
       "      <td>Area_Service_Finger Lakes</td>\n",
       "      <td>1</td>\n",
       "    </tr>\n",
       "    <tr>\n",
       "      <th>10</th>\n",
       "      <td>Area_Service_Hudson Valley</td>\n",
       "      <td>1</td>\n",
       "    </tr>\n",
       "    <tr>\n",
       "      <th>11</th>\n",
       "      <td>Area_Service_New York City</td>\n",
       "      <td>4</td>\n",
       "    </tr>\n",
       "    <tr>\n",
       "      <th>12</th>\n",
       "      <td>Area_Service_Southern Tier</td>\n",
       "      <td>1</td>\n",
       "    </tr>\n",
       "    <tr>\n",
       "      <th>13</th>\n",
       "      <td>Area_Service_Western NY</td>\n",
       "      <td>1</td>\n",
       "    </tr>\n",
       "    <tr>\n",
       "      <th>14</th>\n",
       "      <td>Age_0 to 17</td>\n",
       "      <td>1</td>\n",
       "    </tr>\n",
       "    <tr>\n",
       "      <th>15</th>\n",
       "      <td>Age_18 to 29</td>\n",
       "      <td>1</td>\n",
       "    </tr>\n",
       "    <tr>\n",
       "      <th>16</th>\n",
       "      <td>Age_30 to 49</td>\n",
       "      <td>1</td>\n",
       "    </tr>\n",
       "    <tr>\n",
       "      <th>17</th>\n",
       "      <td>Age_50 to 69</td>\n",
       "      <td>1</td>\n",
       "    </tr>\n",
       "    <tr>\n",
       "      <th>18</th>\n",
       "      <td>Age_70 or Older</td>\n",
       "      <td>1</td>\n",
       "    </tr>\n",
       "    <tr>\n",
       "      <th>19</th>\n",
       "      <td>Gender_F</td>\n",
       "      <td>1</td>\n",
       "    </tr>\n",
       "    <tr>\n",
       "      <th>20</th>\n",
       "      <td>Gender_M</td>\n",
       "      <td>1</td>\n",
       "    </tr>\n",
       "    <tr>\n",
       "      <th>21</th>\n",
       "      <td>Gender_U</td>\n",
       "      <td>13</td>\n",
       "    </tr>\n",
       "    <tr>\n",
       "      <th>22</th>\n",
       "      <td>Cultural_group_Black/African American</td>\n",
       "      <td>1</td>\n",
       "    </tr>\n",
       "    <tr>\n",
       "      <th>23</th>\n",
       "      <td>Cultural_group_Other Race</td>\n",
       "      <td>1</td>\n",
       "    </tr>\n",
       "    <tr>\n",
       "      <th>24</th>\n",
       "      <td>Cultural_group_Unknown</td>\n",
       "      <td>6</td>\n",
       "    </tr>\n",
       "    <tr>\n",
       "      <th>25</th>\n",
       "      <td>Cultural_group_White</td>\n",
       "      <td>1</td>\n",
       "    </tr>\n",
       "    <tr>\n",
       "      <th>26</th>\n",
       "      <td>ethnicity_Not Span/Hispanic</td>\n",
       "      <td>1</td>\n",
       "    </tr>\n",
       "    <tr>\n",
       "      <th>27</th>\n",
       "      <td>ethnicity_Spanish/Hispanic</td>\n",
       "      <td>1</td>\n",
       "    </tr>\n",
       "    <tr>\n",
       "      <th>28</th>\n",
       "      <td>ethnicity_Unknown</td>\n",
       "      <td>1</td>\n",
       "    </tr>\n",
       "    <tr>\n",
       "      <th>29</th>\n",
       "      <td>Admission_type_Elective</td>\n",
       "      <td>1</td>\n",
       "    </tr>\n",
       "    <tr>\n",
       "      <th>30</th>\n",
       "      <td>Admission_type_Emergency</td>\n",
       "      <td>1</td>\n",
       "    </tr>\n",
       "    <tr>\n",
       "      <th>31</th>\n",
       "      <td>Admission_type_Newborn</td>\n",
       "      <td>8</td>\n",
       "    </tr>\n",
       "    <tr>\n",
       "      <th>32</th>\n",
       "      <td>Admission_type_Not Available</td>\n",
       "      <td>11</td>\n",
       "    </tr>\n",
       "    <tr>\n",
       "      <th>33</th>\n",
       "      <td>Admission_type_Trauma</td>\n",
       "      <td>10</td>\n",
       "    </tr>\n",
       "    <tr>\n",
       "      <th>34</th>\n",
       "      <td>Admission_type_Urgent</td>\n",
       "      <td>1</td>\n",
       "    </tr>\n",
       "    <tr>\n",
       "      <th>35</th>\n",
       "      <td>Code_illness_0</td>\n",
       "      <td>16</td>\n",
       "    </tr>\n",
       "    <tr>\n",
       "      <th>36</th>\n",
       "      <td>Code_illness_1</td>\n",
       "      <td>1</td>\n",
       "    </tr>\n",
       "    <tr>\n",
       "      <th>37</th>\n",
       "      <td>Code_illness_2</td>\n",
       "      <td>1</td>\n",
       "    </tr>\n",
       "    <tr>\n",
       "      <th>38</th>\n",
       "      <td>Code_illness_3</td>\n",
       "      <td>1</td>\n",
       "    </tr>\n",
       "    <tr>\n",
       "      <th>39</th>\n",
       "      <td>Code_illness_4</td>\n",
       "      <td>3</td>\n",
       "    </tr>\n",
       "    <tr>\n",
       "      <th>40</th>\n",
       "      <td>Mortality risk_1.0</td>\n",
       "      <td>1</td>\n",
       "    </tr>\n",
       "    <tr>\n",
       "      <th>41</th>\n",
       "      <td>Mortality risk_2.0</td>\n",
       "      <td>1</td>\n",
       "    </tr>\n",
       "    <tr>\n",
       "      <th>42</th>\n",
       "      <td>Mortality risk_3.0</td>\n",
       "      <td>1</td>\n",
       "    </tr>\n",
       "    <tr>\n",
       "      <th>43</th>\n",
       "      <td>Mortality risk_4.0</td>\n",
       "      <td>2</td>\n",
       "    </tr>\n",
       "    <tr>\n",
       "      <th>44</th>\n",
       "      <td>Surg_Description_Medical</td>\n",
       "      <td>7</td>\n",
       "    </tr>\n",
       "    <tr>\n",
       "      <th>45</th>\n",
       "      <td>Surg_Description_Not Applicable</td>\n",
       "      <td>14</td>\n",
       "    </tr>\n",
       "    <tr>\n",
       "      <th>46</th>\n",
       "      <td>Surg_Description_Surgical</td>\n",
       "      <td>9</td>\n",
       "    </tr>\n",
       "    <tr>\n",
       "      <th>47</th>\n",
       "      <td>Abortion_N</td>\n",
       "      <td>17</td>\n",
       "    </tr>\n",
       "    <tr>\n",
       "      <th>48</th>\n",
       "      <td>Abortion_Y</td>\n",
       "      <td>15</td>\n",
       "    </tr>\n",
       "    <tr>\n",
       "      <th>49</th>\n",
       "      <td>Emergency dept_yes/No_N</td>\n",
       "      <td>1</td>\n",
       "    </tr>\n",
       "    <tr>\n",
       "      <th>50</th>\n",
       "      <td>Emergency dept_yes/No_Y</td>\n",
       "      <td>1</td>\n",
       "    </tr>\n",
       "    <tr>\n",
       "      <th>51</th>\n",
       "      <td>Payment_Typology_1</td>\n",
       "      <td>1</td>\n",
       "    </tr>\n",
       "    <tr>\n",
       "      <th>52</th>\n",
       "      <td>Payment_Typology_2</td>\n",
       "      <td>1</td>\n",
       "    </tr>\n",
       "    <tr>\n",
       "      <th>53</th>\n",
       "      <td>Payment_Typology_3</td>\n",
       "      <td>1</td>\n",
       "    </tr>\n",
       "    <tr>\n",
       "      <th>54</th>\n",
       "      <td>Payment_Typology_4</td>\n",
       "      <td>5</td>\n",
       "    </tr>\n",
       "    <tr>\n",
       "      <th>55</th>\n",
       "      <td>Payment_Typology_5</td>\n",
       "      <td>12</td>\n",
       "    </tr>\n",
       "  </tbody>\n",
       "</table>\n",
       "</div>"
      ],
      "text/plain": [
       "                               Columnname Rank\n",
       "0                        Days_spend_hsptl    1\n",
       "1                      ccs_diagnosis_code    1\n",
       "2                      ccs_procedure_code    1\n",
       "3                             Weight_baby    1\n",
       "4                               Tot_charg    1\n",
       "5                                Tot_cost    1\n",
       "6   ratio_of_total_costs_to_total_charges    1\n",
       "7            Area_Service_Capital/Adirond    1\n",
       "8                 Area_Service_Central NY    1\n",
       "9               Area_Service_Finger Lakes    1\n",
       "10             Area_Service_Hudson Valley    1\n",
       "11             Area_Service_New York City    4\n",
       "12             Area_Service_Southern Tier    1\n",
       "13                Area_Service_Western NY    1\n",
       "14                            Age_0 to 17    1\n",
       "15                           Age_18 to 29    1\n",
       "16                           Age_30 to 49    1\n",
       "17                           Age_50 to 69    1\n",
       "18                        Age_70 or Older    1\n",
       "19                               Gender_F    1\n",
       "20                               Gender_M    1\n",
       "21                               Gender_U   13\n",
       "22  Cultural_group_Black/African American    1\n",
       "23              Cultural_group_Other Race    1\n",
       "24                 Cultural_group_Unknown    6\n",
       "25                   Cultural_group_White    1\n",
       "26            ethnicity_Not Span/Hispanic    1\n",
       "27             ethnicity_Spanish/Hispanic    1\n",
       "28                      ethnicity_Unknown    1\n",
       "29                Admission_type_Elective    1\n",
       "30               Admission_type_Emergency    1\n",
       "31                 Admission_type_Newborn    8\n",
       "32           Admission_type_Not Available   11\n",
       "33                  Admission_type_Trauma   10\n",
       "34                  Admission_type_Urgent    1\n",
       "35                         Code_illness_0   16\n",
       "36                         Code_illness_1    1\n",
       "37                         Code_illness_2    1\n",
       "38                         Code_illness_3    1\n",
       "39                         Code_illness_4    3\n",
       "40                     Mortality risk_1.0    1\n",
       "41                     Mortality risk_2.0    1\n",
       "42                     Mortality risk_3.0    1\n",
       "43                     Mortality risk_4.0    2\n",
       "44               Surg_Description_Medical    7\n",
       "45        Surg_Description_Not Applicable   14\n",
       "46              Surg_Description_Surgical    9\n",
       "47                             Abortion_N   17\n",
       "48                             Abortion_Y   15\n",
       "49                Emergency dept_yes/No_N    1\n",
       "50                Emergency dept_yes/No_Y    1\n",
       "51                     Payment_Typology_1    1\n",
       "52                     Payment_Typology_2    1\n",
       "53                     Payment_Typology_3    1\n",
       "54                     Payment_Typology_4    5\n",
       "55                     Payment_Typology_5   12"
      ]
     },
     "execution_count": 118,
     "metadata": {},
     "output_type": "execute_result"
    }
   ],
   "source": [
    "df1"
   ]
  },
  {
   "cell_type": "code",
   "execution_count": 119,
   "metadata": {
    "ExecuteTime": {
     "end_time": "2021-02-01T20:54:14.309960Z",
     "start_time": "2021-02-01T20:54:14.248129Z"
    }
   },
   "outputs": [
    {
     "data": {
      "text/plain": [
       "['Days_spend_hsptl',\n",
       " 'ccs_diagnosis_code',\n",
       " 'ccs_procedure_code',\n",
       " 'Weight_baby',\n",
       " 'Tot_charg',\n",
       " 'Tot_cost',\n",
       " 'ratio_of_total_costs_to_total_charges',\n",
       " 'Area_Service_Capital/Adirond',\n",
       " 'Area_Service_Central NY',\n",
       " 'Area_Service_Finger Lakes',\n",
       " 'Area_Service_Hudson Valley',\n",
       " 'Area_Service_New York City',\n",
       " 'Area_Service_Southern Tier',\n",
       " 'Area_Service_Western NY',\n",
       " 'Age_0 to 17',\n",
       " 'Age_18 to 29',\n",
       " 'Age_30 to 49',\n",
       " 'Age_50 to 69',\n",
       " 'Age_70 or Older',\n",
       " 'Gender_F',\n",
       " 'Gender_M',\n",
       " 'Cultural_group_Black/African American',\n",
       " 'Cultural_group_Other Race',\n",
       " 'Cultural_group_White',\n",
       " 'ethnicity_Not Span/Hispanic',\n",
       " 'ethnicity_Spanish/Hispanic',\n",
       " 'ethnicity_Unknown',\n",
       " 'Admission_type_Elective',\n",
       " 'Admission_type_Emergency',\n",
       " 'Admission_type_Urgent',\n",
       " 'Code_illness_1',\n",
       " 'Code_illness_2',\n",
       " 'Code_illness_3',\n",
       " 'Code_illness_4',\n",
       " 'Mortality risk_1.0',\n",
       " 'Mortality risk_2.0',\n",
       " 'Mortality risk_3.0',\n",
       " 'Mortality risk_4.0',\n",
       " 'Emergency dept_yes/No_N',\n",
       " 'Emergency dept_yes/No_Y',\n",
       " 'Payment_Typology_1',\n",
       " 'Payment_Typology_2',\n",
       " 'Payment_Typology_3',\n",
       " 'Payment_Typology_4']"
      ]
     },
     "execution_count": 119,
     "metadata": {},
     "output_type": "execute_result"
    }
   ],
   "source": [
    "selected_features_2=[]\n",
    "for i in range(0,len(df1.index)):\n",
    "     if df1.iloc[i,1]<=5:\n",
    "        selected_features_2.append(df1.iloc[i,0])\n",
    "selected_features_2"
   ]
  },
  {
   "cell_type": "code",
   "execution_count": 63,
   "metadata": {
    "ExecuteTime": {
     "end_time": "2021-02-01T13:03:47.714141Z",
     "start_time": "2021-02-01T13:03:47.533965Z"
    }
   },
   "outputs": [],
   "source": [
    "selected_features_2=['Days_spend_hsptl',\n",
    " 'ccs_diagnosis_code',\n",
    " 'ccs_procedure_code',\n",
    " 'Weight_baby',\n",
    " 'Tot_charg',\n",
    " 'Tot_cost',\n",
    " 'ratio_of_total_costs_to_total_charges',\n",
    " 'Area_Service_Capital/Adirond',\n",
    " 'Area_Service_Central NY',\n",
    " 'Area_Service_Finger Lakes',\n",
    " 'Area_Service_Hudson Valley',\n",
    " 'Area_Service_New York City',\n",
    " 'Area_Service_Southern Tier',\n",
    " 'Area_Service_Western NY',\n",
    " 'Age_0 to 17',\n",
    " 'Age_18 to 29',\n",
    " 'Age_30 to 49',\n",
    " 'Age_50 to 69',\n",
    " 'Age_70 or Older',\n",
    " 'Gender_F',\n",
    " 'Gender_M',\n",
    " 'Cultural_group_Black/African American',\n",
    " 'Cultural_group_Other Race',\n",
    " 'Cultural_group_White',\n",
    " 'ethnicity_Not Span/Hispanic',\n",
    " 'ethnicity_Spanish/Hispanic',\n",
    " 'ethnicity_Unknown',\n",
    " 'Admission_type_Elective',\n",
    " 'Admission_type_Emergency',\n",
    " 'Admission_type_Urgent',\n",
    " 'Code_illness_1',\n",
    " 'Code_illness_2',\n",
    " 'Code_illness_3',\n",
    " 'Code_illness_4',\n",
    " 'Mortality risk_1.0',\n",
    " 'Mortality risk_2.0',\n",
    " 'Mortality risk_3.0',\n",
    " 'Mortality risk_4.0',\n",
    " 'Emergency dept_yes/No_N',\n",
    " 'Emergency dept_yes/No_Y',\n",
    " 'Payment_Typology_1',\n",
    " 'Payment_Typology_2',\n",
    " 'Payment_Typology_3',\n",
    " 'Payment_Typology_4','Result']\n",
    "data_featureselected_2=data_final[selected_features_2]"
   ]
  },
  {
   "cell_type": "code",
   "execution_count": null,
   "metadata": {},
   "outputs": [],
   "source": [
    "############################################# data_featureselected_2 imbalance #############################"
   ]
  },
  {
   "cell_type": "code",
   "execution_count": 64,
   "metadata": {
    "ExecuteTime": {
     "end_time": "2021-02-01T13:19:35.537934Z",
     "start_time": "2021-02-01T13:19:34.108977Z"
    }
   },
   "outputs": [],
   "source": [
    "from sklearn.model_selection import train_test_split\n",
    "X_train2,X_test2,y_train2,y_test2= train_test_split(data_featureselected_2.iloc[:,0:44], data_featureselected_2.iloc[:,44], test_size=0.25,stratify=data_featureselected_2.iloc[:,44], random_state=42)"
   ]
  },
  {
   "cell_type": "code",
   "execution_count": 65,
   "metadata": {
    "ExecuteTime": {
     "end_time": "2021-02-01T13:31:16.890448Z",
     "start_time": "2021-02-01T13:19:47.756664Z"
    }
   },
   "outputs": [
    {
     "name": "stdout",
     "output_type": "stream",
     "text": [
      "Test Data Report\n",
      "              precision    recall  f1-score   support\n",
      "\n",
      "           0       0.25      0.04      0.06     65542\n",
      "           1       0.75      0.96      0.84    196602\n",
      "\n",
      "    accuracy                           0.73    262144\n",
      "   macro avg       0.50      0.50      0.45    262144\n",
      "weighted avg       0.62      0.73      0.65    262144\n",
      "\n",
      "Whole Data Report\n",
      "              precision    recall  f1-score   support\n",
      "\n",
      "           0       0.96      0.76      0.85    262168\n",
      "           1       0.92      0.99      0.96    786407\n",
      "\n",
      "    accuracy                           0.93   1048575\n",
      "   macro avg       0.94      0.87      0.90   1048575\n",
      "weighted avg       0.93      0.93      0.93   1048575\n",
      "\n"
     ]
    }
   ],
   "source": [
    "#RandomForestClassifier on imbalanced dataset 2 \n",
    "from sklearn.metrics import classification_report, confusion_matrix\n",
    "from sklearn.ensemble import RandomForestClassifier\n",
    "rfc1=RandomForestClassifier(random_state=122,class_weight='balanced')\n",
    "rfc1.fit(X_train2, y_train2)\n",
    "\n",
    "#Test Data\n",
    "print('Test Data Report')\n",
    "pred2_test=rfc1.predict(X_test2)\n",
    "print(classification_report(y_test2, pred2_test))\n",
    "\n",
    "#Whole Data\n",
    "print('Whole Data Report')\n",
    "pred2_whole=rfc1.predict(data_featureselected_2.iloc[:,0:44])\n",
    "print(classification_report(data_featureselected_2.iloc[:,44], pred2_whole))"
   ]
  },
  {
   "cell_type": "code",
   "execution_count": 67,
   "metadata": {
    "ExecuteTime": {
     "end_time": "2021-02-01T13:41:57.632589Z",
     "start_time": "2021-02-01T13:40:42.179860Z"
    }
   },
   "outputs": [
    {
     "name": "stdout",
     "output_type": "stream",
     "text": [
      "Test Data Report\n",
      "              precision    recall  f1-score   support\n",
      "\n",
      "           0       0.33      0.00      0.00     65542\n",
      "           1       0.75      1.00      0.86    196602\n",
      "\n",
      "    accuracy                           0.75    262144\n",
      "   macro avg       0.54      0.50      0.43    262144\n",
      "weighted avg       0.65      0.75      0.64    262144\n",
      "\n",
      "Whole Data Report\n",
      "              precision    recall  f1-score   support\n",
      "\n",
      "           0       0.84      0.00      0.00    262168\n",
      "           1       0.75      1.00      0.86    786407\n",
      "\n",
      "    accuracy                           0.75   1048575\n",
      "   macro avg       0.80      0.50      0.43   1048575\n",
      "weighted avg       0.77      0.75      0.64   1048575\n",
      "\n"
     ]
    }
   ],
   "source": [
    "#xgboost on  imbalanced dataset 2\n",
    "import xgboost as xgb\n",
    "from sklearn.metrics import classification_report, confusion_matrix\n",
    "dtrain = xgb.DMatrix(X_train2, label=y_train2)\n",
    "dtest = xgb.DMatrix(X_test2, label=y_test2                                                      )\n",
    "dwhole= xgb.DMatrix(data_featureselected_2.iloc[:,0:44],label=data_featureselected_2.iloc[:,44])\n",
    "param = {\n",
    "    'eta': 0.3, \n",
    "    'max_depth': 3,  \n",
    "    'objective': 'multi:softprob',  \n",
    "    'num_class': 2} \n",
    "steps = 50\n",
    "model = xgb.train(param, dtrain, steps)\n",
    "preds = model.predict(dtest)\n",
    "\n",
    "#Test Data\n",
    "print('Test Data Report')\n",
    "best_preds = np.asarray([np.argmax(line) for line in preds])\n",
    "print(classification_report(y_test2, best_preds))\n",
    "\n",
    "preds = model.predict(dwhole)\n",
    "best_preds = np.asarray([np.argmax(line) for line in preds])\n",
    "#Whole Data\n",
    "print('Whole Data Report')\n",
    "print(classification_report(data_featureselected_2.iloc[:,44], best_preds))"
   ]
  },
  {
   "cell_type": "code",
   "execution_count": 73,
   "metadata": {
    "ExecuteTime": {
     "end_time": "2021-02-01T14:16:04.406032Z",
     "start_time": "2021-02-01T14:15:08.180317Z"
    }
   },
   "outputs": [
    {
     "name": "stderr",
     "output_type": "stream",
     "text": [
      "C:\\Users\\Pavan786\\anaconda3\\lib\\site-packages\\sklearn\\linear_model\\_logistic.py:765: ConvergenceWarning: lbfgs failed to converge (status=1):\n",
      "STOP: TOTAL NO. of ITERATIONS REACHED LIMIT.\n",
      "\n",
      "Increase the number of iterations (max_iter) or scale the data as shown in:\n",
      "    https://scikit-learn.org/stable/modules/preprocessing.html\n",
      "Please also refer to the documentation for alternative solver options:\n",
      "    https://scikit-learn.org/stable/modules/linear_model.html#logistic-regression\n",
      "  extra_warning_msg=_LOGISTIC_SOLVER_CONVERGENCE_MSG)\n"
     ]
    },
    {
     "name": "stdout",
     "output_type": "stream",
     "text": [
      "Test Data Report\n",
      "              precision    recall  f1-score   support\n",
      "\n",
      "           0       0.19      0.00      0.00     65542\n",
      "           1       0.75      1.00      0.86    196602\n",
      "\n",
      "    accuracy                           0.75    262144\n",
      "   macro avg       0.47      0.50      0.43    262144\n",
      "weighted avg       0.61      0.75      0.64    262144\n",
      "\n",
      "Whole Data Report\n",
      "              precision    recall  f1-score   support\n",
      "\n",
      "           0       0.26      0.00      0.00    262168\n",
      "           1       0.75      1.00      0.86    786407\n",
      "\n",
      "    accuracy                           0.75   1048575\n",
      "   macro avg       0.51      0.50      0.43   1048575\n",
      "weighted avg       0.63      0.75      0.64   1048575\n",
      "\n"
     ]
    }
   ],
   "source": [
    "#LogisticRegression on  imbalanced dataset 2\n",
    "from sklearn.linear_model import LogisticRegression\n",
    "from sklearn.metrics import classification_report, confusion_matrix\n",
    "model = LogisticRegression()\n",
    "model.fit(X_train2, y_train2) \n",
    "\n",
    "#Test Data\n",
    "print('Test Data Report')\n",
    "predictions=model.predict(X_test2)\n",
    "print(classification_report(y_test2, predictions))\n",
    "\n",
    "#Whole Data\n",
    "print('Whole Data Report')\n",
    "predictions=model.predict(data_featureselected_2.iloc[:,0:44])\n",
    "print(classification_report(data_featureselected_2.iloc[:,44], predictions))"
   ]
  },
  {
   "cell_type": "code",
   "execution_count": 72,
   "metadata": {
    "ExecuteTime": {
     "end_time": "2021-02-01T14:12:18.392153Z",
     "start_time": "2021-02-01T14:10:55.766993Z"
    }
   },
   "outputs": [
    {
     "name": "stdout",
     "output_type": "stream",
     "text": [
      "Test Data Report\n",
      "              precision    recall  f1-score   support\n",
      "\n",
      "           0       0.25      0.27      0.26     65542\n",
      "           1       0.75      0.73      0.74    196602\n",
      "\n",
      "    accuracy                           0.61    262144\n",
      "   macro avg       0.50      0.50      0.50    262144\n",
      "weighted avg       0.62      0.61      0.62    262144\n",
      "\n",
      "Whole Data Report\n",
      "              precision    recall  f1-score   support\n",
      "\n",
      "           0       0.80      0.82      0.81    262168\n",
      "           1       0.94      0.93      0.93    786407\n",
      "\n",
      "    accuracy                           0.90   1048575\n",
      "   macro avg       0.87      0.87      0.87   1048575\n",
      "weighted avg       0.90      0.90      0.90   1048575\n",
      "\n"
     ]
    }
   ],
   "source": [
    "#DecisionTreeClassifier on  imbalanced dataset 2\n",
    "import pandas as pd\n",
    "from sklearn.tree import DecisionTreeClassifier\n",
    "clf = DecisionTreeClassifier()\n",
    "# Train Decision Tree Classifer\n",
    "clf = clf.fit(X_train2,y_train2)\n",
    "\n",
    "#Predict the response for test dataset\n",
    "y_pred = clf.predict(X_test2)\n",
    "#Test Data\n",
    "print('Test Data Report')\n",
    "print(classification_report(y_test2, y_pred))\n",
    "\n",
    "#Whole Data\n",
    "print('Whole Data Report')\n",
    "y_pred = clf.predict(data_featureselected_2.iloc[:,0:44])\n",
    "print(classification_report(data_featureselected_2.iloc[:,44],y_pred))"
   ]
  },
  {
   "cell_type": "code",
   "execution_count": null,
   "metadata": {},
   "outputs": [],
   "source": [
    "############################################# data_featureselected_2 Under sampling #############################"
   ]
  },
  {
   "cell_type": "code",
   "execution_count": 74,
   "metadata": {
    "ExecuteTime": {
     "end_time": "2021-02-01T14:32:05.428386Z",
     "start_time": "2021-02-01T14:32:00.741777Z"
    }
   },
   "outputs": [],
   "source": [
    "# transform the dataset\n",
    "from imblearn.over_sampling import RandomOverSampler\n",
    "from imblearn.under_sampling import RandomUnderSampler\n",
    "under = RandomUnderSampler(random_state=1)\n",
    "X_u, y_u = under.fit_resample(data_featureselected_2.iloc[:,0:44], data_featureselected_2.iloc[:,44])"
   ]
  },
  {
   "cell_type": "code",
   "execution_count": 78,
   "metadata": {
    "ExecuteTime": {
     "end_time": "2021-02-01T14:34:07.659296Z",
     "start_time": "2021-02-01T14:34:06.433362Z"
    }
   },
   "outputs": [
    {
     "data": {
      "text/html": [
       "<div>\n",
       "<style scoped>\n",
       "    .dataframe tbody tr th:only-of-type {\n",
       "        vertical-align: middle;\n",
       "    }\n",
       "\n",
       "    .dataframe tbody tr th {\n",
       "        vertical-align: top;\n",
       "    }\n",
       "\n",
       "    .dataframe thead th {\n",
       "        text-align: right;\n",
       "    }\n",
       "</style>\n",
       "<table border=\"1\" class=\"dataframe\">\n",
       "  <thead>\n",
       "    <tr style=\"text-align: right;\">\n",
       "      <th>col_0</th>\n",
       "      <th>count</th>\n",
       "    </tr>\n",
       "    <tr>\n",
       "      <th>Result</th>\n",
       "      <th></th>\n",
       "    </tr>\n",
       "  </thead>\n",
       "  <tbody>\n",
       "    <tr>\n",
       "      <th>0</th>\n",
       "      <td>262168</td>\n",
       "    </tr>\n",
       "    <tr>\n",
       "      <th>1</th>\n",
       "      <td>262168</td>\n",
       "    </tr>\n",
       "  </tbody>\n",
       "</table>\n",
       "</div>"
      ],
      "text/plain": [
       "col_0    count\n",
       "Result        \n",
       "0       262168\n",
       "1       262168"
      ]
     },
     "execution_count": 78,
     "metadata": {},
     "output_type": "execute_result"
    }
   ],
   "source": [
    "pd.crosstab(y_u,'count')"
   ]
  },
  {
   "cell_type": "code",
   "execution_count": 80,
   "metadata": {
    "ExecuteTime": {
     "end_time": "2021-02-01T14:34:33.534400Z",
     "start_time": "2021-02-01T14:34:33.260186Z"
    }
   },
   "outputs": [],
   "source": [
    "from sklearn.model_selection import train_test_split\n",
    "X_train_u, X_test_u, y_train_u, y_test_u = train_test_split(X_u,y_u,test_size=0.20,random_state=120)"
   ]
  },
  {
   "cell_type": "code",
   "execution_count": 81,
   "metadata": {
    "ExecuteTime": {
     "end_time": "2021-02-01T14:40:31.047975Z",
     "start_time": "2021-02-01T14:34:40.356267Z"
    }
   },
   "outputs": [
    {
     "name": "stdout",
     "output_type": "stream",
     "text": [
      "Test Data Report\n",
      "              precision    recall  f1-score   support\n",
      "\n",
      "           0       0.50      0.52      0.51     52479\n",
      "           1       0.50      0.48      0.49     52389\n",
      "\n",
      "    accuracy                           0.50    104868\n",
      "   macro avg       0.50      0.50      0.50    104868\n",
      "weighted avg       0.50      0.50      0.50    104868\n",
      "\n",
      "Whole Data Report\n",
      "              precision    recall  f1-score   support\n",
      "\n",
      "           0       0.44      0.90      0.59    262168\n",
      "           1       0.95      0.62      0.75    786407\n",
      "\n",
      "    accuracy                           0.69   1048575\n",
      "   macro avg       0.70      0.76      0.67   1048575\n",
      "weighted avg       0.82      0.69      0.71   1048575\n",
      "\n"
     ]
    }
   ],
   "source": [
    "#RandomForestClassifier on Under sampling dataset 2 \n",
    "from sklearn.metrics import classification_report, confusion_matrix\n",
    "from sklearn.ensemble import RandomForestClassifier\n",
    "rfc1=RandomForestClassifier(random_state=122)\n",
    "rfc1.fit(X_train_u, y_train_u)\n",
    "\n",
    "#Test Data\n",
    "print('Test Data Report')\n",
    "pred2_test=rfc1.predict(X_test_u)\n",
    "print(classification_report(y_test_u, pred2_test))\n",
    "\n",
    "#Whole Data\n",
    "print('Whole Data Report')\n",
    "pred2_whole=rfc1.predict(data_featureselected_2.iloc[:,0:44])\n",
    "print(classification_report(data_featureselected_2.iloc[:,44], pred2_whole))"
   ]
  },
  {
   "cell_type": "code",
   "execution_count": 82,
   "metadata": {
    "ExecuteTime": {
     "end_time": "2021-02-01T15:16:16.413406Z",
     "start_time": "2021-02-01T15:15:18.469070Z"
    }
   },
   "outputs": [
    {
     "name": "stdout",
     "output_type": "stream",
     "text": [
      "Test Data Report\n",
      "              precision    recall  f1-score   support\n",
      "\n",
      "           0       0.50      0.50      0.50     52479\n",
      "           1       0.50      0.50      0.50     52389\n",
      "\n",
      "    accuracy                           0.50    104868\n",
      "   macro avg       0.50      0.50      0.50    104868\n",
      "weighted avg       0.50      0.50      0.50    104868\n",
      "\n",
      "Whole Data Report\n",
      "              precision    recall  f1-score   support\n",
      "\n",
      "           0       0.26      0.51      0.34    262168\n",
      "           1       0.76      0.51      0.61    786407\n",
      "\n",
      "    accuracy                           0.51   1048575\n",
      "   macro avg       0.51      0.51      0.47   1048575\n",
      "weighted avg       0.63      0.51      0.54   1048575\n",
      "\n"
     ]
    }
   ],
   "source": [
    "#xgboost on  Under sampling dataset 2\n",
    "import xgboost as xgb\n",
    "from sklearn.metrics import classification_report, confusion_matrix\n",
    "dtrain = xgb.DMatrix(X_train_u, label=y_train_u)\n",
    "dtest = xgb.DMatrix(X_test_u, label=y_test_u                                                      )\n",
    "dwhole= xgb.DMatrix(data_featureselected_2.iloc[:,0:44],label=data_featureselected_2.iloc[:,44])\n",
    "param = {\n",
    "    'eta': 0.3, \n",
    "    'max_depth': 3,  \n",
    "    'objective': 'multi:softprob',  \n",
    "    'num_class': 2} \n",
    "steps = 50\n",
    "model = xgb.train(param, dtrain, steps)\n",
    "preds = model.predict(dtest)\n",
    "\n",
    "#Test Data\n",
    "print('Test Data Report')\n",
    "best_preds = np.asarray([np.argmax(line) for line in preds])\n",
    "print(classification_report(y_test_u, best_preds))\n",
    "\n",
    "preds = model.predict(dwhole)\n",
    "best_preds = np.asarray([np.argmax(line) for line in preds])\n",
    "#Whole Data\n",
    "print('Whole Data Report')\n",
    "print(classification_report(data_featureselected_2.iloc[:,44], best_preds))"
   ]
  },
  {
   "cell_type": "code",
   "execution_count": 85,
   "metadata": {
    "ExecuteTime": {
     "end_time": "2021-02-01T15:19:40.019577Z",
     "start_time": "2021-02-01T15:19:32.659591Z"
    }
   },
   "outputs": [
    {
     "name": "stdout",
     "output_type": "stream",
     "text": [
      "Test Data Report\n",
      "              precision    recall  f1-score   support\n",
      "\n",
      "           0       0.50      0.72      0.59     52479\n",
      "           1       0.50      0.28      0.36     52389\n",
      "\n",
      "    accuracy                           0.50    104868\n",
      "   macro avg       0.50      0.50      0.48    104868\n",
      "weighted avg       0.50      0.50      0.48    104868\n",
      "\n",
      "Whole Data Report\n",
      "              precision    recall  f1-score   support\n",
      "\n",
      "           0       0.25      0.72      0.37    262168\n",
      "           1       0.75      0.28      0.41    786407\n",
      "\n",
      "    accuracy                           0.39   1048575\n",
      "   macro avg       0.50      0.50      0.39   1048575\n",
      "weighted avg       0.62      0.39      0.40   1048575\n",
      "\n"
     ]
    }
   ],
   "source": [
    "#LogisticRegression on  Under sampling dataset 2\n",
    "from sklearn.linear_model import LogisticRegression\n",
    "from sklearn.metrics import classification_report, confusion_matrix\n",
    "model = LogisticRegression()\n",
    "model.fit(X_train_u, y_train_u) \n",
    "\n",
    "#Test Data\n",
    "print('Test Data Report')\n",
    "predictions=model.predict(X_test_u)\n",
    "print(classification_report(y_test_u, predictions))\n",
    "\n",
    "#Whole Data\n",
    "print('Whole Data Report')\n",
    "predictions=model.predict(data_featureselected_2.iloc[:,0:44])\n",
    "print(classification_report(data_featureselected_2.iloc[:,44], predictions))"
   ]
  },
  {
   "cell_type": "code",
   "execution_count": 84,
   "metadata": {
    "ExecuteTime": {
     "end_time": "2021-02-01T15:18:06.279427Z",
     "start_time": "2021-02-01T15:17:29.495969Z"
    }
   },
   "outputs": [
    {
     "name": "stdout",
     "output_type": "stream",
     "text": [
      "Test Data Report\n",
      "              precision    recall  f1-score   support\n",
      "\n",
      "           0       0.50      0.50      0.50     52479\n",
      "           1       0.50      0.50      0.50     52389\n",
      "\n",
      "    accuracy                           0.50    104868\n",
      "   macro avg       0.50      0.50      0.50    104868\n",
      "weighted avg       0.50      0.50      0.50    104868\n",
      "\n",
      "Whole Data Report\n",
      "              precision    recall  f1-score   support\n",
      "\n",
      "           0       0.45      0.90      0.60    262168\n",
      "           1       0.95      0.63      0.76    786407\n",
      "\n",
      "    accuracy                           0.70   1048575\n",
      "   macro avg       0.70      0.77      0.68   1048575\n",
      "weighted avg       0.82      0.70      0.72   1048575\n",
      "\n"
     ]
    }
   ],
   "source": [
    "#DecisionTreeClassifier on  Under sampling  dataset 2\n",
    "import pandas as pd\n",
    "from sklearn.tree import DecisionTreeClassifier\n",
    "clf = DecisionTreeClassifier()\n",
    "# Train Decision Tree Classifer\n",
    "clf = clf.fit(X_train_u,y_train_u)\n",
    "\n",
    "#Predict the response for test dataset\n",
    "y_pred = clf.predict(X_test_u)\n",
    "#Test Data\n",
    "print('Test Data Report')\n",
    "print(classification_report(y_test_u, y_pred))\n",
    "\n",
    "#Whole Data\n",
    "print('Whole Data Report')\n",
    "y_pred = clf.predict(data_featureselected_2.iloc[:,0:44])\n",
    "print(classification_report(data_featureselected_2.iloc[:,44], y_pred))"
   ]
  },
  {
   "cell_type": "code",
   "execution_count": null,
   "metadata": {},
   "outputs": [],
   "source": [
    "############################################# data_featureselected_2 over sampling #############################"
   ]
  },
  {
   "cell_type": "code",
   "execution_count": 86,
   "metadata": {
    "ExecuteTime": {
     "end_time": "2021-02-01T15:21:21.088756Z",
     "start_time": "2021-02-01T15:21:13.181797Z"
    }
   },
   "outputs": [],
   "source": [
    "# transform the dataset\n",
    "from imblearn.over_sampling import RandomOverSampler\n",
    "over = RandomOverSampler(random_state=1)\n",
    "X_s, y_s = over.fit_resample(data_featureselected_2.iloc[:,0:44], data_featureselected_2.iloc[:,44])"
   ]
  },
  {
   "cell_type": "code",
   "execution_count": 87,
   "metadata": {
    "ExecuteTime": {
     "end_time": "2021-02-01T15:21:33.212673Z",
     "start_time": "2021-02-01T15:21:31.589034Z"
    }
   },
   "outputs": [],
   "source": [
    "from sklearn.model_selection import train_test_split\n",
    "X_train_o, X_test_o, y_train_o, y_test_o = train_test_split(X_s,y_s,test_size=0.20,random_state=120)"
   ]
  },
  {
   "cell_type": "code",
   "execution_count": 88,
   "metadata": {
    "ExecuteTime": {
     "end_time": "2021-02-01T16:11:54.258078Z",
     "start_time": "2021-02-01T15:21:44.677896Z"
    }
   },
   "outputs": [
    {
     "name": "stdout",
     "output_type": "stream",
     "text": [
      "Test Data Report\n",
      "              precision    recall  f1-score   support\n",
      "\n",
      "           0       0.87      0.92      0.89    157391\n",
      "           1       0.91      0.86      0.89    157172\n",
      "\n",
      "    accuracy                           0.89    314563\n",
      "   macro avg       0.89      0.89      0.89    314563\n",
      "weighted avg       0.89      0.89      0.89    314563\n",
      "\n",
      "Whole Data Report\n",
      "              precision    recall  f1-score   support\n",
      "\n",
      "           0       0.91      0.96      0.94    262168\n",
      "           1       0.99      0.97      0.98    786407\n",
      "\n",
      "    accuracy                           0.97   1048575\n",
      "   macro avg       0.95      0.97      0.96   1048575\n",
      "weighted avg       0.97      0.97      0.97   1048575\n",
      "\n"
     ]
    }
   ],
   "source": [
    "#RandomForestClassifier on over sampling dataset 2 \n",
    "from sklearn.metrics import classification_report, confusion_matrix\n",
    "from sklearn.ensemble import RandomForestClassifier\n",
    "rfc1=RandomForestClassifier(random_state=122)\n",
    "rfc1.fit(X_train_o, y_train_o)\n",
    "\n",
    "#Test Data\n",
    "print('Test Data Report')\n",
    "pred2_test=rfc1.predict(X_test_o)\n",
    "print(classification_report(y_test_o, pred2_test))\n",
    "\n",
    "#Whole Data\n",
    "print('Whole Data Report')\n",
    "pred2_whole=rfc1.predict(data_featureselected_2.iloc[:,0:44])\n",
    "print(classification_report(data_featureselected_2.iloc[:,44], pred2_whole))"
   ]
  },
  {
   "cell_type": "code",
   "execution_count": 92,
   "metadata": {
    "ExecuteTime": {
     "end_time": "2021-02-01T16:27:19.982663Z",
     "start_time": "2021-02-01T16:25:08.509863Z"
    }
   },
   "outputs": [
    {
     "name": "stdout",
     "output_type": "stream",
     "text": [
      "Test Data Report\n",
      "              precision    recall  f1-score   support\n",
      "\n",
      "           0       0.51      0.49      0.50    157391\n",
      "           1       0.51      0.53      0.52    157172\n",
      "\n",
      "    accuracy                           0.51    314563\n",
      "   macro avg       0.51      0.51      0.51    314563\n",
      "weighted avg       0.51      0.51      0.51    314563\n",
      "\n",
      "Whole Data Report\n",
      "              precision    recall  f1-score   support\n",
      "\n",
      "           0       0.26      0.49      0.34    262168\n",
      "           1       0.76      0.53      0.63    786407\n",
      "\n",
      "    accuracy                           0.52   1048575\n",
      "   macro avg       0.51      0.51      0.48   1048575\n",
      "weighted avg       0.63      0.52      0.55   1048575\n",
      "\n"
     ]
    }
   ],
   "source": [
    "#xgboost on  over sampling dataset 2\n",
    "import xgboost as xgb\n",
    "from sklearn.metrics import classification_report, confusion_matrix\n",
    "dtrain = xgb.DMatrix(X_train_o, label=y_train_o)\n",
    "dtest = xgb.DMatrix(X_test_o, label=y_test_o)                                                      \n",
    "dwhole= xgb.DMatrix(data_featureselected_2.iloc[:,0:44],label=data_featureselected_2.iloc[:,44])\n",
    "param = {\n",
    "    'eta': 0.3, \n",
    "    'max_depth': 3,  \n",
    "    'objective': 'multi:softprob',  \n",
    "    'num_class': 2} \n",
    "steps = 50\n",
    "model = xgb.train(param, dtrain, steps)\n",
    "preds = model.predict(dtest)\n",
    "\n",
    "#Test Data\n",
    "print('Test Data Report')\n",
    "best_preds = np.asarray([np.argmax(line) for line in preds])\n",
    "print(classification_report(y_test_o, best_preds))\n",
    "\n",
    "preds = model.predict(dwhole)\n",
    "best_preds = np.asarray([np.argmax(line) for line in preds])\n",
    "#Whole Data\n",
    "print('Whole Data Report')\n",
    "print(classification_report(data_featureselected_2.iloc[:,44], best_preds))"
   ]
  },
  {
   "cell_type": "code",
   "execution_count": 93,
   "metadata": {
    "ExecuteTime": {
     "end_time": "2021-02-01T16:45:50.621806Z",
     "start_time": "2021-02-01T16:45:29.773826Z"
    }
   },
   "outputs": [
    {
     "name": "stdout",
     "output_type": "stream",
     "text": [
      "Test Data Report\n",
      "              precision    recall  f1-score   support\n",
      "\n",
      "           0       0.50      0.16      0.24    157391\n",
      "           1       0.50      0.84      0.63    157172\n",
      "\n",
      "    accuracy                           0.50    314563\n",
      "   macro avg       0.50      0.50      0.43    314563\n",
      "weighted avg       0.50      0.50      0.43    314563\n",
      "\n",
      "Whole Data Report\n",
      "              precision    recall  f1-score   support\n",
      "\n",
      "           0       0.25      0.16      0.19    262168\n",
      "           1       0.75      0.84      0.79    786407\n",
      "\n",
      "    accuracy                           0.67   1048575\n",
      "   macro avg       0.50      0.50      0.49   1048575\n",
      "weighted avg       0.63      0.67      0.64   1048575\n",
      "\n"
     ]
    }
   ],
   "source": [
    "#LogisticRegression on  over sampling dataset 2\n",
    "from sklearn.linear_model import LogisticRegression\n",
    "from sklearn.metrics import classification_report, confusion_matrix\n",
    "model = LogisticRegression()\n",
    "model.fit(X_train_o, y_train_o) \n",
    "\n",
    "#Test Data\n",
    "print('Test Data Report')\n",
    "predictions=model.predict(X_test_o)\n",
    "print(classification_report(y_test_o, predictions))\n",
    "\n",
    "#Whole Data\n",
    "print('Whole Data Report')\n",
    "predictions=model.predict(data_featureselected_2.iloc[:,0:44])\n",
    "print(classification_report(data_featureselected_2.iloc[:,44], predictions))"
   ]
  },
  {
   "cell_type": "code",
   "execution_count": 90,
   "metadata": {
    "ExecuteTime": {
     "end_time": "2021-02-01T16:21:02.361625Z",
     "start_time": "2021-02-01T16:15:27.984775Z"
    }
   },
   "outputs": [
    {
     "name": "stdout",
     "output_type": "stream",
     "text": [
      "Test Data Report\n",
      "              precision    recall  f1-score   support\n",
      "\n",
      "           0       0.76      0.93      0.84    157391\n",
      "           1       0.91      0.70      0.79    157172\n",
      "\n",
      "    accuracy                           0.82    314563\n",
      "   macro avg       0.84      0.82      0.82    314563\n",
      "weighted avg       0.84      0.82      0.82    314563\n",
      "\n",
      "Whole Data Report\n",
      "              precision    recall  f1-score   support\n",
      "\n",
      "           0       0.84      0.97      0.90    262168\n",
      "           1       0.99      0.94      0.96    786407\n",
      "\n",
      "    accuracy                           0.95   1048575\n",
      "   macro avg       0.91      0.95      0.93   1048575\n",
      "weighted avg       0.95      0.95      0.95   1048575\n",
      "\n"
     ]
    }
   ],
   "source": [
    "#DecisionTreeClassifier on  over sampling  dataset 2\n",
    "import pandas as pd\n",
    "from sklearn.tree import DecisionTreeClassifier\n",
    "clf = DecisionTreeClassifier()\n",
    "# Train Decision Tree Classifer\n",
    "clf = clf.fit(X_train_o,y_train_o)\n",
    "\n",
    "#Predict the response for test dataset\n",
    "y_pred = clf.predict(X_test_o)\n",
    "#Test Data\n",
    "print('Test Data Report')\n",
    "print(classification_report(y_test_o, y_pred))\n",
    "\n",
    "#Whole Data\n",
    "print('Whole Data Report')\n",
    "y_pred = clf.predict(data_featureselected_2.iloc[:,0:44])\n",
    "print(classification_report(data_featureselected_2.iloc[:,44], y_pred))"
   ]
  },
  {
   "cell_type": "code",
   "execution_count": null,
   "metadata": {},
   "outputs": [],
   "source": []
  }
 ],
 "metadata": {
  "kernelspec": {
   "display_name": "Python 3",
   "language": "python",
   "name": "python3"
  },
  "language_info": {
   "codemirror_mode": {
    "name": "ipython",
    "version": 3
   },
   "file_extension": ".py",
   "mimetype": "text/x-python",
   "name": "python",
   "nbconvert_exporter": "python",
   "pygments_lexer": "ipython3",
   "version": "3.7.6"
  },
  "varInspector": {
   "cols": {
    "lenName": 16,
    "lenType": 16,
    "lenVar": 40
   },
   "kernels_config": {
    "python": {
     "delete_cmd_postfix": "",
     "delete_cmd_prefix": "del ",
     "library": "var_list.py",
     "varRefreshCmd": "print(var_dic_list())"
    },
    "r": {
     "delete_cmd_postfix": ") ",
     "delete_cmd_prefix": "rm(",
     "library": "var_list.r",
     "varRefreshCmd": "cat(var_dic_list()) "
    }
   },
   "types_to_exclude": [
    "module",
    "function",
    "builtin_function_or_method",
    "instance",
    "_Feature"
   ],
   "window_display": false
  }
 },
 "nbformat": 4,
 "nbformat_minor": 4
}
